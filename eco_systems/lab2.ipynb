{
 "cells": [
  {
   "cell_type": "code",
   "execution_count": 1,
   "metadata": {},
   "outputs": [],
   "source": [
    "import numpy as np\n",
    "from scipy import linalg"
   ]
  },
  {
   "cell_type": "markdown",
   "metadata": {},
   "source": [
    "# Diversified economy"
   ]
  },
  {
   "cell_type": "markdown",
   "metadata": {},
   "source": [
    "Matrix $X$ - production needs, where $x_{ij}$ is how much of $i$-th product is needed to make $j$-th product"
   ]
  },
  {
   "cell_type": "code",
   "execution_count": 2,
   "metadata": {},
   "outputs": [],
   "source": [
    "X = np.array([[500, 300], [150, 200]])"
   ]
  },
  {
   "cell_type": "markdown",
   "metadata": {},
   "source": [
    "Vector $y$ - consumer needs, where $y_i$ shows how much of $i$-th product people buy(non-production needs)"
   ]
  },
  {
   "cell_type": "code",
   "execution_count": 3,
   "metadata": {},
   "outputs": [],
   "source": [
    "y = np.array([900, 500])"
   ]
  },
  {
   "cell_type": "markdown",
   "metadata": {},
   "source": [
    "Total production can be calculated as\n",
    "$$\n",
    "x_i = \\sum_{j=1}^n x_{ij} + y_i\n",
    "$$"
   ]
  },
  {
   "cell_type": "code",
   "execution_count": 4,
   "metadata": {},
   "outputs": [
    {
     "name": "stdout",
     "output_type": "stream",
     "text": [
      "[1700  850]\n"
     ]
    }
   ],
   "source": [
    "x = np.sum(X, axis=1) + y\n",
    "print(x)"
   ]
  },
  {
   "cell_type": "markdown",
   "metadata": {},
   "source": [
    "## Leontiev model\n",
    "\n",
    "We assume that cost is proportional to production\n",
    "$$\n",
    "x_{ij}=a_{ij}x_j \\implies a_{ij}=\\frac{x_{ij}}{x_j}\n",
    "$$"
   ]
  },
  {
   "cell_type": "code",
   "execution_count": 5,
   "metadata": {},
   "outputs": [
    {
     "name": "stdout",
     "output_type": "stream",
     "text": [
      "[[ 0.29411765  0.35294118]\n",
      " [ 0.08823529  0.23529412]]\n"
     ]
    }
   ],
   "source": [
    "A = X / x\n",
    "print(A)"
   ]
  },
  {
   "cell_type": "markdown",
   "metadata": {},
   "source": [
    "When our consumer needs changed"
   ]
  },
  {
   "cell_type": "code",
   "execution_count": 6,
   "metadata": {},
   "outputs": [],
   "source": [
    "y1 = np.array([1100, 800])"
   ]
  },
  {
   "cell_type": "markdown",
   "metadata": {},
   "source": [
    "We can approximate production changes needed to satisfy our customers\n",
    "$$\n",
    "x' = Ax' + y'\n",
    "$$\n",
    "\n",
    "$$\n",
    "(A - E)x' = -y'\n",
    "$$"
   ]
  },
  {
   "cell_type": "code",
   "execution_count": 7,
   "metadata": {},
   "outputs": [
    {
     "name": "stdout",
     "output_type": "stream",
     "text": [
      "[ 2208.84353741  1301.02040816]\n"
     ]
    }
   ],
   "source": [
    "x1 = np.linalg.solve(A - np.eye(A.shape[0]), -y1)\n",
    "print(x1)"
   ]
  },
  {
   "cell_type": "markdown",
   "metadata": {},
   "source": [
    "## Part 2\n",
    "\n",
    "Given matrix $A$"
   ]
  },
  {
   "cell_type": "code",
   "execution_count": 8,
   "metadata": {},
   "outputs": [],
   "source": [
    "A = np.array([[0.5, 0.1, 0.5], [0, 0.3, 0.1], [0.2, 0.3, 0.1]])"
   ]
  },
  {
   "cell_type": "markdown",
   "metadata": {},
   "source": [
    "We can find coefficients of charactiristic polynomial using `numpy.poly`"
   ]
  },
  {
   "cell_type": "code",
   "execution_count": 9,
   "metadata": {},
   "outputs": [
    {
     "name": "stdout",
     "output_type": "stream",
     "text": [
      "[ 1.    -0.9    0.1    0.028]\n"
     ]
    }
   ],
   "source": [
    "coefs = np.poly(A)\n",
    "print(coefs)"
   ]
  },
  {
   "cell_type": "markdown",
   "metadata": {},
   "source": [
    "To compute eigenvalues and eigenvectors we can use `scipy.linalg.eig`"
   ]
  },
  {
   "cell_type": "code",
   "execution_count": 10,
   "metadata": {},
   "outputs": [],
   "source": [
    "vals, left, right = linalg.eig(A, left=True, right=True)"
   ]
  },
  {
   "cell_type": "markdown",
   "metadata": {},
   "source": [
    "Frobenius number is by definition the largest of eigenvalues"
   ]
  },
  {
   "cell_type": "code",
   "execution_count": 11,
   "metadata": {},
   "outputs": [
    {
     "name": "stdout",
     "output_type": "stream",
     "text": [
      "0.7\n"
     ]
    }
   ],
   "source": [
    "print(np.max(vals).real)"
   ]
  },
  {
   "cell_type": "markdown",
   "metadata": {},
   "source": [
    "Because Frobenius number is less than 1 we can say that technology matrix is **productive**."
   ]
  },
  {
   "cell_type": "markdown",
   "metadata": {},
   "source": [
    "Also left and right frobenius vectors are"
   ]
  },
  {
   "cell_type": "code",
   "execution_count": 12,
   "metadata": {},
   "outputs": [
    {
     "name": "stdout",
     "output_type": "stream",
     "text": [
      "[ 0.57735027  0.57735027  0.57735027]\n",
      "[ 0.93080864  0.08864844  0.35459377]\n"
     ]
    }
   ],
   "source": [
    "print(left[:, np.argmax(vals)])\n",
    "print(right[:, np.argmax(vals)])"
   ]
  },
  {
   "cell_type": "markdown",
   "metadata": {},
   "source": [
    "### Full costs matrix\n",
    "\n",
    "Can be computed as"
   ]
  },
  {
   "cell_type": "code",
   "execution_count": 13,
   "metadata": {},
   "outputs": [
    {
     "name": "stdout",
     "output_type": "stream",
     "text": [
      "[[ 2.63157895  1.05263158  1.57894737]\n",
      " [ 0.0877193   1.53508772  0.21929825]\n",
      " [ 0.61403509  0.74561404  1.53508772]]\n"
     ]
    }
   ],
   "source": [
    "B = np.linalg.inv(np.eye(A.shape[0]) - A)\n",
    "print(B)"
   ]
  },
  {
   "cell_type": "markdown",
   "metadata": {},
   "source": [
    "We can also approximate matrix $B$ with limit\n",
    "$$\n",
    "\\lim_{n \\to \\infty} (E + \\sum_{i=1}^n A^n) = \\lim_{n \\to \\infty} E + A + A^2 + ... + A^n = B\n",
    "$$"
   ]
  },
  {
   "cell_type": "code",
   "execution_count": 14,
   "metadata": {},
   "outputs": [
    {
     "name": "stdout",
     "output_type": "stream",
     "text": [
      "It took 14 steps to converge.\n",
      "[[ 2.62407473  1.04512739  1.57144316]\n",
      " [ 0.08700461  1.53437301  0.21858356]\n",
      " [ 0.61117634  0.74275528  1.53222897]]\n"
     ]
    }
   ],
   "source": [
    "B1 = P = np.eye(A.shape[0])\n",
    "for i in range(100):\n",
    "    P = P @ A\n",
    "    B1 = B1 + P\n",
    "    if np.max(np.abs(B - B1)) < 1e-2:\n",
    "        print('It took {} steps to converge.'.format(i))\n",
    "        break\n",
    "print(B1)"
   ]
  },
  {
   "cell_type": "markdown",
   "metadata": {},
   "source": [
    "### Prices (by Leontiev)\n",
    "\n",
    "Additional costs vector $s$ equals\n",
    "\n",
    "$$\n",
    "p = pA + s\n",
    "$$\n",
    "\n",
    "$$\n",
    "p(E - A) = s\n",
    "$$\n",
    "\n",
    "$$\n",
    "p = s(E - A) ^{-1}\n",
    "$$\n",
    "\n",
    "$$\n",
    "p = sB\n",
    "$$"
   ]
  },
  {
   "cell_type": "code",
   "execution_count": 15,
   "metadata": {},
   "outputs": [],
   "source": [
    "s = np.array([0.2, 0.3, 0.4])"
   ]
  },
  {
   "cell_type": "code",
   "execution_count": 16,
   "metadata": {},
   "outputs": [
    {
     "name": "stdout",
     "output_type": "stream",
     "text": [
      "[ 0.79824561  0.96929825  0.99561404]\n"
     ]
    }
   ],
   "source": [
    "p = s @ B\n",
    "print(p)"
   ]
  }
 ],
 "metadata": {
  "kernelspec": {
   "display_name": "Python 3",
   "language": "python",
   "name": "python3"
  },
  "language_info": {
   "codemirror_mode": {
    "name": "ipython",
    "version": 3
   },
   "file_extension": ".py",
   "mimetype": "text/x-python",
   "name": "python",
   "nbconvert_exporter": "python",
   "pygments_lexer": "ipython3",
   "version": "3.6.4"
  }
 },
 "nbformat": 4,
 "nbformat_minor": 2
}
