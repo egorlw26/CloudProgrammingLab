{
 "cells": [
  {
   "cell_type": "markdown",
   "metadata": {},
   "source": [
    "#                            Лабораторна робота №2\n",
    "## з дисципліни «Математичне моделювання економічних та екологічних процесів»\n",
    "### Варіант №11\n"
   ]
  },
  {
   "cell_type": "markdown",
   "metadata": {},
   "source": [
    "#### Завдання 11. 1: \n",
    "Економіка країни розбита на дві виробничі галузі (промисловість та сільське господарство). За минулий рік повний випуск промислових виробництв у вартісній формі був розподілений таким чином:\n",
    "\n",
    "1120 млн. грн. для виробничих потреб промисловості;\n",
    "\n",
    "950 млн. грн. для виробничих потреб сільського господарства;\n",
    "\n",
    "1970 млн. грн. для споживання населення (згідно попиту на цю продукцію).\n",
    "\n",
    "В той же час повний випуск сільськогосподарської продукції (у вартісній формі) був розподілений таким чином:\n",
    "\n",
    "850 млн. грн. для виробничих потреб промисловості;\n",
    "\n",
    "720 млн. грн. для виробничих потреб сільського господарства;\n",
    "\n",
    "1250 млн. грн. для споживання населення (згідно попиту на цю продукцію).\n",
    "\n",
    "На наступний рік прогнозується зміна попиту населення на вітчизняну продукцію, в т. ч. на промислові вироби до 2150 млн. грн та на сільськогосподарську продукцію до 1530 млн. грн. Який повний випуск промислової продукції та повний випуск сільськогосподарської продукції зможуть задовольнити новий попит?"
   ]
  },
  {
   "cell_type": "code",
   "execution_count": 1,
   "metadata": {},
   "outputs": [],
   "source": [
    "import numpy as np\n"
   ]
  },
  {
   "cell_type": "code",
   "execution_count": 2,
   "metadata": {},
   "outputs": [],
   "source": [
    "# Дані промисловості\n",
    "x11 = 1120\n",
    "x12 = 950\n",
    "y1 = 1970\n",
    "\n",
    "#Дані сільського господарства\n",
    "x21 = 850\n",
    "x22 = 720\n",
    "y2 = 1250\n",
    "\n",
    "x1 = x11 + x12 + y1\n",
    "x2 = x21 + x22 + y2"
   ]
  },
  {
   "cell_type": "markdown",
   "metadata": {},
   "source": [
    "Будуємо технологічну матрицю"
   ]
  },
  {
   "cell_type": "code",
   "execution_count": 3,
   "metadata": {},
   "outputs": [
    {
     "name": "stdout",
     "output_type": "stream",
     "text": [
      "[[ 0.27722772  0.33687943]\n",
      " [ 0.21039604  0.25531915]]\n"
     ]
    }
   ],
   "source": [
    "a11 = x11 / x1\n",
    "a12 = x12 / x2\n",
    "a21 = x21 / x1\n",
    "a22 = x22 / x2\n",
    "\n",
    "A1 = np.array([[a11, a12], [a21, a22]])\n",
    "print(A1)"
   ]
  },
  {
   "cell_type": "markdown",
   "metadata": {},
   "source": [
    "Будуємо матрицю моделі Леонтьєва\n",
    "$$ \\begin{cases} x_1 = a_{11}x_1 + a_{12}x_2 + y_1 \\\\ x_2 = a_{21}x_1 + a_{22}x_2 + y_2 \\end{cases} $$"
   ]
  },
  {
   "cell_type": "code",
   "execution_count": 1,
   "metadata": {},
   "outputs": [
    {
     "ename": "NameError",
     "evalue": "name 'A1' is not defined",
     "output_type": "error",
     "traceback": [
      "\u001b[0;31m---------------------------------------------------------------------------\u001b[0m",
      "\u001b[0;31mNameError\u001b[0m                                 Traceback (most recent call last)",
      "\u001b[0;32m<ipython-input-1-2319d5f3e2f8>\u001b[0m in \u001b[0;36m<module>\u001b[0;34m()\u001b[0m\n\u001b[0;32m----> 1\u001b[0;31m \u001b[0mA2\u001b[0m \u001b[0;34m=\u001b[0m \u001b[0mA1\u001b[0m\u001b[0;34m\u001b[0m\u001b[0m\n\u001b[0m\u001b[1;32m      2\u001b[0m \u001b[0mA2\u001b[0m\u001b[0;34m[\u001b[0m\u001b[0;36m0\u001b[0m\u001b[0;34m,\u001b[0m \u001b[0;36m0\u001b[0m\u001b[0;34m]\u001b[0m \u001b[0;34m=\u001b[0m \u001b[0;36m1\u001b[0m \u001b[0;34m-\u001b[0m \u001b[0mA2\u001b[0m\u001b[0;34m[\u001b[0m\u001b[0;36m0\u001b[0m\u001b[0;34m,\u001b[0m \u001b[0;36m0\u001b[0m\u001b[0;34m]\u001b[0m\u001b[0;34m\u001b[0m\u001b[0m\n\u001b[1;32m      3\u001b[0m \u001b[0mA2\u001b[0m\u001b[0;34m[\u001b[0m\u001b[0;36m0\u001b[0m\u001b[0;34m,\u001b[0m \u001b[0;36m1\u001b[0m\u001b[0;34m]\u001b[0m \u001b[0;34m=\u001b[0m \u001b[0;36m0\u001b[0m \u001b[0;34m-\u001b[0m \u001b[0mA2\u001b[0m\u001b[0;34m[\u001b[0m\u001b[0;36m0\u001b[0m\u001b[0;34m,\u001b[0m \u001b[0;36m1\u001b[0m\u001b[0;34m]\u001b[0m\u001b[0;34m\u001b[0m\u001b[0m\n\u001b[1;32m      4\u001b[0m \u001b[0mA2\u001b[0m\u001b[0;34m[\u001b[0m\u001b[0;36m1\u001b[0m\u001b[0;34m,\u001b[0m \u001b[0;36m0\u001b[0m\u001b[0;34m]\u001b[0m \u001b[0;34m=\u001b[0m \u001b[0;36m0\u001b[0m \u001b[0;34m-\u001b[0m \u001b[0mA2\u001b[0m\u001b[0;34m[\u001b[0m\u001b[0;36m1\u001b[0m\u001b[0;34m,\u001b[0m \u001b[0;36m0\u001b[0m\u001b[0;34m]\u001b[0m\u001b[0;34m\u001b[0m\u001b[0m\n\u001b[1;32m      5\u001b[0m \u001b[0mA2\u001b[0m\u001b[0;34m[\u001b[0m\u001b[0;36m1\u001b[0m\u001b[0;34m,\u001b[0m \u001b[0;36m1\u001b[0m\u001b[0;34m]\u001b[0m \u001b[0;34m=\u001b[0m \u001b[0;36m1\u001b[0m \u001b[0;34m-\u001b[0m \u001b[0mA2\u001b[0m\u001b[0;34m[\u001b[0m\u001b[0;36m1\u001b[0m\u001b[0;34m,\u001b[0m \u001b[0;36m1\u001b[0m\u001b[0;34m]\u001b[0m\u001b[0;34m\u001b[0m\u001b[0m\n",
      "\u001b[0;31mNameError\u001b[0m: name 'A1' is not defined"
     ]
    }
   ],
   "source": [
    "A2 = A1\n",
    "A2[0, 0] = 1 - A2[0, 0]\n",
    "A2[0, 1] = 0 - A2[0, 1]\n",
    "A2[1, 0] = 0 - A2[1, 0]\n",
    "A2[1, 1] = 1 - A2[1, 1]\n",
    "print(\"A2: \")\n",
    "print(A2)\n",
    "\n",
    "# Нові об'єми\n",
    "Y = np.array([2150, 1530])\n",
    "\n",
    "X = np.linalg.solve(A2, Y)\n",
    "print(\"X: \", X)"
   ]
  },
  {
   "cell_type": "markdown",
   "metadata": {},
   "source": [
    "Отже, повний випуск промислової галузі дорівнює  4528.63930886 млн. грн., а сільського господарства 3334.05615551 млн. грн."
   ]
  },
  {
   "cell_type": "markdown",
   "metadata": {},
   "source": [
    "#### Завдання 11. 2:\n",
    "$$ A = \\begin{pmatrix} \n",
    "0.15 & 0.55 & 0.1 \\\\ \n",
    "0.35 & 0.35 & 0.2 \\\\ \n",
    "0.15 & 0.15 & 0.2  \n",
    "\\end{pmatrix}  $$"
   ]
  },
  {
   "cell_type": "code",
   "execution_count": 5,
   "metadata": {},
   "outputs": [
    {
     "name": "stdout",
     "output_type": "stream",
     "text": [
      "[[ 0.15  0.55  0.1 ]\n",
      " [ 0.35  0.35  0.2 ]\n",
      " [ 0.15  0.15  0.2 ]]\n"
     ]
    }
   ],
   "source": [
    "A = np.array([[0.15, 0.55, 0.1], [0.35, 0.35, 0.2], [0.15, 0.15, 0.2]])\n",
    "print(A)\n"
   ]
  },
  {
   "cell_type": "markdown",
   "metadata": {},
   "source": [
    "Знайдемо коефіцієнти характеристичного поліному"
   ]
  },
  {
   "cell_type": "code",
   "execution_count": 6,
   "metadata": {},
   "outputs": [
    {
     "name": "stdout",
     "output_type": "stream",
     "text": [
      "[ 1.    -0.7   -0.085  0.016]\n"
     ]
    }
   ],
   "source": [
    "coefs = np.poly(A)\n",
    "print(coefs)"
   ]
  },
  {
   "cell_type": "markdown",
   "metadata": {},
   "source": [
    "Знаходимо вектор v власних чисел матриці А"
   ]
  },
  {
   "cell_type": "code",
   "execution_count": 7,
   "metadata": {},
   "outputs": [
    {
     "name": "stdout",
     "output_type": "stream",
     "text": [
      "[ 0.78249579 -0.19007257  0.10757678]\n"
     ]
    }
   ],
   "source": [
    "v, e = np.linalg.eig(A)\n",
    "print(v)"
   ]
  },
  {
   "cell_type": "markdown",
   "metadata": {},
   "source": [
    "Знайдемо число  Фробеніуса, яке є найбільшим дійсним додатним \n",
    "серед простих коренів характеристичного рівняння матриці А."
   ]
  },
  {
   "cell_type": "code",
   "execution_count": 8,
   "metadata": {},
   "outputs": [
    {
     "name": "stdout",
     "output_type": "stream",
     "text": [
      "0.782495786753\n"
     ]
    }
   ],
   "source": [
    "frob = max(v)\n",
    "print(frob)"
   ]
  },
  {
   "cell_type": "markdown",
   "metadata": {},
   "source": [
    "Для  знаходження правого вектора  Фробеніуса потрібно вибрати з матриці \n",
    "V власних векторів той вектор, що відповідає числу Фробеніуса у матриці E."
   ]
  },
  {
   "cell_type": "code",
   "execution_count": 9,
   "metadata": {},
   "outputs": [
    {
     "name": "stdout",
     "output_type": "stream",
     "text": [
      "[-0.64680812 -0.68162645 -0.34208863]\n"
     ]
    }
   ],
   "source": [
    "left_frob = e[:, np.argmax(v)]\n",
    "print(left_frob)"
   ]
  },
  {
   "cell_type": "markdown",
   "metadata": {},
   "source": [
    "Для знаходження лівого вектора Фробеніса потрібно повторити дії \n",
    "знаходження власних векторів та виведення вектора,  відповідного \n",
    "числу Фробеніуса, але  уже для транспонованої матриці до A."
   ]
  },
  {
   "cell_type": "code",
   "execution_count": 10,
   "metadata": {},
   "outputs": [
    {
     "name": "stdout",
     "output_type": "stream",
     "text": [
      "[-0.51567456 -0.77927958 -0.3560942 ]\n"
     ]
    }
   ],
   "source": [
    "A_trans = np.transpose(A)\n",
    "v_t, e_t = np.linalg.eig(A_trans)\n",
    "right_frob = e_t[:, np.argmax(v_t)]\n",
    "print(right_frob)"
   ]
  },
  {
   "cell_type": "markdown",
   "metadata": {},
   "source": [
    "Знайдемо матрицю повних витрат B.\n",
    "$$ B = (E - A)^{-1} $$"
   ]
  },
  {
   "cell_type": "code",
   "execution_count": 11,
   "metadata": {},
   "outputs": [
    {
     "name": "stdout",
     "output_type": "stream",
     "text": [
      "[[ 2.12121212  1.96969697  0.75757576]\n",
      " [ 1.34199134  2.87878788  0.88744589]\n",
      " [ 0.64935065  0.90909091  1.55844156]]\n"
     ]
    }
   ],
   "source": [
    "B = np.linalg.inv(np.eye(A.shape[0]) - A)\n",
    "print(B)"
   ]
  },
  {
   "cell_type": "markdown",
   "metadata": {},
   "source": [
    "Для того, щоб дослідити на збіжність суму ряду $$ E + A + A^2 + ... + A^N $$ до матриці \n",
    "повних витрат B, потрібно організувати цикл знаходження N, у якому \n",
    "поступово  перевіряти,  чи  максимальний елемент матриць не \n",
    "менший 0.01."
   ]
  },
  {
   "cell_type": "code",
   "execution_count": 12,
   "metadata": {},
   "outputs": [
    {
     "name": "stdout",
     "output_type": "stream",
     "text": [
      "N:  22\n"
     ]
    }
   ],
   "source": [
    "temp_A = B - np.ones(A.shape) - A\n",
    "A_in_N = A\n",
    "N = 1\n",
    "while np.amax(temp_A) > 0.01:\n",
    "    A_in_N = A_in_N.dot(A)\n",
    "    temp_A = temp_A - A_in_N\n",
    "    N = N + 1\n",
    "print(\"N: \", N)"
   ]
  },
  {
   "cell_type": "markdown",
   "metadata": {},
   "source": [
    "Знайдемо вектор цін, якщо вектор доданої вартості в цінах s = (0.25, 0.35, 0.3). $$p = p*A + s$$ $$ p(E - A) = s $$ $$ p = s * (E - A) ^{-1} $$ $$ p = s * B $$"
   ]
  },
  {
   "cell_type": "code",
   "execution_count": 13,
   "metadata": {},
   "outputs": [
    {
     "name": "stdout",
     "output_type": "stream",
     "text": [
      "[ 1.19480519  1.77272727  0.96753247]\n"
     ]
    }
   ],
   "source": [
    "s = np.array([0.25, 0.35, 0.3])\n",
    "p = s.dot(B)\n",
    "print(p)"
   ]
  }
 ],
 "metadata": {
  "kernelspec": {
   "display_name": "Python 3",
   "language": "python",
   "name": "python3"
  },
  "language_info": {
   "codemirror_mode": {
    "name": "ipython",
    "version": 3
   },
   "file_extension": ".py",
   "mimetype": "text/x-python",
   "name": "python",
   "nbconvert_exporter": "python",
   "pygments_lexer": "ipython3",
   "version": "3.6.4"
  }
 },
 "nbformat": 4,
 "nbformat_minor": 2
}
