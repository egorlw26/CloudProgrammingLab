{
 "cells": [
  {
   "cell_type": "code",
   "execution_count": 1,
   "metadata": {
    "collapsed": true
   },
   "outputs": [],
   "source": [
    "import numpy as np\n",
    "from numpy.random import rand\n",
    "import matplotlib.pyplot as plt\n",
    "import time\n",
    "\n",
    "%matplotlib inline"
   ]
  },
  {
   "cell_type": "code",
   "execution_count": 2,
   "metadata": {
    "collapsed": true
   },
   "outputs": [],
   "source": [
    "np.random.seed(17)"
   ]
  },
  {
   "cell_type": "markdown",
   "metadata": {},
   "source": [
    "# Triagonal matrices"
   ]
  },
  {
   "cell_type": "markdown",
   "metadata": {},
   "source": [
    "![matrix](http://i.huffpost.com/gen/4393678/images/n-THE-MATRIX-628x314.jpg)"
   ]
  },
  {
   "cell_type": "code",
   "execution_count": 3,
   "metadata": {
    "collapsed": false
   },
   "outputs": [],
   "source": [
    "def generate_random_triagonal(n):\n",
    "    A = np.zeros((n, n))\n",
    "    for i in range(n - 1):\n",
    "        A[i + 1][i] = rand()\n",
    "        A[i][i + 1] = rand()\n",
    "        A[i][i] = rand()\n",
    "    A[n - 1][n - 1] = rand()\n",
    "    return A, rand(n)"
   ]
  },
  {
   "cell_type": "code",
   "execution_count": 4,
   "metadata": {
    "collapsed": true
   },
   "outputs": [],
   "source": [
    "def norm(A, x, f):\n",
    "    return np.linalg.norm(A.dot(x) - f)"
   ]
  },
  {
   "cell_type": "code",
   "execution_count": 5,
   "metadata": {
    "collapsed": true
   },
   "outputs": [],
   "source": [
    "def run(method, A, f, verbose=False):\n",
    "    if not verbose:\n",
    "        print(\"-\" * 100)\n",
    "        print(method.__name__.upper())\n",
    "    x = method(A, f)\n",
    "    score = norm(A, x, f)\n",
    "    if not verbose:\n",
    "        print(\"x =\", x)\n",
    "        print(\"score =\", score)\n",
    "    return score"
   ]
  },
  {
   "cell_type": "code",
   "execution_count": 6,
   "metadata": {
    "collapsed": true
   },
   "outputs": [],
   "source": [
    "def linalg(A, f):\n",
    "    return np.linalg.solve(A, f)"
   ]
  },
  {
   "cell_type": "code",
   "execution_count": 7,
   "metadata": {
    "collapsed": true
   },
   "outputs": [],
   "source": [
    "def right(A, f):    \n",
    "    n = A.shape[0]\n",
    "    a = np.zeros(n - 1)\n",
    "    b = np.zeros(n - 1)\n",
    "    a[0] = -A[0][1] / A[0][0]\n",
    "    b[0] = f[0] / A[0][0]\n",
    "    for i in range(1, n - 1):\n",
    "        a[i] = -A[i][i + 1] / (A[i][i - 1] * a[i - 1] + A[i][i])\n",
    "        b[i] = (f[i] - A[i][i - 1] * b[i - 1]) / (A[i][i - 1] * a[i - 1] + A[i][i])\n",
    "    x = np.zeros(n)\n",
    "    x[n - 1] = (f[n - 1] - A[n - 1][n - 2] * b[n - 2]) / (A[n - 1][n - 2] * a[n - 2] + A[n - 1][n - 1])\n",
    "    for i in range(n - 2, -1, -1):\n",
    "        x[i] = x[i + 1] * a[i] + b[i]\n",
    "    return x"
   ]
  },
  {
   "cell_type": "code",
   "execution_count": 8,
   "metadata": {
    "collapsed": true
   },
   "outputs": [],
   "source": [
    "def left(A, f):    \n",
    "    n = A.shape[0]\n",
    "    a = np.zeros(n)\n",
    "    b = np.zeros(n)\n",
    "    a[n - 1] = -A[n - 1][n - 2] / A[n - 1][n - 1]\n",
    "    b[n - 1] = f[n - 1] / A[n - 1][n - 1]\n",
    "    for i in range(n - 2, 0, -1):\n",
    "        a[i] = -A[i][i - 1] / (A[i][i + 1] * a[i + 1] + A[i][i])\n",
    "        b[i] = (f[i] - A[i][i + 1] * b[i + 1]) / (A[i][i + 1] * a[i + 1] + A[i][i])\n",
    "    x = np.zeros(n)\n",
    "    x[0] = (f[0] - A[0][1] * b[1]) / (A[0][1] * a[1] + A[0][0])\n",
    "    for i in range(1, n):\n",
    "        x[i] = x[i - 1] * a[i] + b[i]\n",
    "    return x"
   ]
  },
  {
   "cell_type": "markdown",
   "metadata": {},
   "source": [
    "## 2x2 corner case"
   ]
  },
  {
   "cell_type": "code",
   "execution_count": 9,
   "metadata": {
    "collapsed": false
   },
   "outputs": [
    {
     "name": "stdout",
     "output_type": "stream",
     "text": [
      "----------------------------------------------------------------------------------------------------\n",
      "RIGHT\n",
      "x = [ 1.  2.]\n",
      "score = 0.0\n",
      "----------------------------------------------------------------------------------------------------\n",
      "LEFT\n",
      "x = [ 1.  2.]\n",
      "score = 0.0\n"
     ]
    }
   ],
   "source": [
    "A = np.array(\n",
    "    [[1, 2],\n",
    "     [3, 4]]\n",
    ")\n",
    "f = np.array([5, 11])\n",
    "\n",
    "_ = run(right, A, f)\n",
    "_ = run(left, A, f)"
   ]
  },
  {
   "cell_type": "markdown",
   "metadata": {},
   "source": [
    "## Another example"
   ]
  },
  {
   "cell_type": "code",
   "execution_count": 10,
   "metadata": {
    "collapsed": false
   },
   "outputs": [
    {
     "name": "stdout",
     "output_type": "stream",
     "text": [
      "[[ 0.19152079  0.53058676  0.          0.          0.          0.        ]\n",
      " [ 0.294665    0.65633352  0.78698546  0.          0.          0.        ]\n",
      " [ 0.          0.06790036  0.03906292  0.57560289  0.          0.        ]\n",
      " [ 0.          0.          0.6375209   0.06004468  0.94568319  0.        ]\n",
      " [ 0.          0.          0.          0.3578136   0.05119367  0.87729053]\n",
      " [ 0.          0.          0.          0.          0.8640421   0.65241862]]\n",
      "----------------------------------------------------------------------------------------------------\n",
      "RIGHT\n",
      "x = [ 10.25298105  -2.66103067  -0.86044513   1.21233764   0.80232523\n",
      "  -0.20191618]\n",
      "score = 1.84109660315e-16\n",
      "----------------------------------------------------------------------------------------------------\n",
      "LEFT\n",
      "x = [ 10.25298105  -2.66103067  -0.86044513   1.21233764   0.80232523\n",
      "  -0.20191618]\n",
      "score = 1.46868701149e-16\n"
     ]
    }
   ],
   "source": [
    "A, f = generate_random_triagonal(6)\n",
    "print(A)\n",
    "\n",
    "_ = run(right, A, f)\n",
    "_ = run(left, A, f)"
   ]
  },
  {
   "cell_type": "markdown",
   "metadata": {},
   "source": [
    "## Huge matrices"
   ]
  },
  {
   "cell_type": "code",
   "execution_count": 11,
   "metadata": {
    "collapsed": true
   },
   "outputs": [],
   "source": [
    "def timeit(method, A, f):\n",
    "    start = time.process_time()\n",
    "    method(A, f)\n",
    "    return time.process_time() - start"
   ]
  },
  {
   "cell_type": "code",
   "execution_count": 12,
   "metadata": {
    "collapsed": false
   },
   "outputs": [
    {
     "name": "stdout",
     "output_type": "stream",
     "text": [
      "10 loops, best of 3: 40.5 ms per loop\n",
      "10 loops, best of 3: 49.6 ms per loop\n",
      "1 loop, best of 3: 1.31 s per loop\n"
     ]
    }
   ],
   "source": [
    "A, f = generate_random_triagonal(5000)\n",
    "\n",
    "%timeit run(right, A, f, verbose=True)\n",
    "%timeit run(left, A, f, verbose=True)\n",
    "%timeit run(linalg, A, f, verbose=True)"
   ]
  },
  {
   "cell_type": "code",
   "execution_count": 13,
   "metadata": {
    "collapsed": true
   },
   "outputs": [],
   "source": [
    "def plot_speed(method, sizes):\n",
    "    scores = np.zeros_like(sizes, dtype=np.float)\n",
    "    for i in range(len(sizes)):\n",
    "        A, f = generate_random_triagonal(sizes[i])\n",
    "        scores[i] = timeit(method, A, f)\n",
    "    plt.plot(sizes, scores, label=method.__name__)"
   ]
  },
  {
   "cell_type": "code",
   "execution_count": 14,
   "metadata": {
    "collapsed": false
   },
   "outputs": [
    {
     "data": {
      "image/png": "[encoded data removed]",
      "text/plain": [
       "<matplotlib.figure.Figure at 0x7f602c4d7be0>"
      ]
     },
     "metadata": {},
     "output_type": "display_data"
    }
   ],
   "source": [
    "sizes = np.linspace(2, 5000, num=50, dtype=np.int)\n",
    "\n",
    "plt.figure(figsize=(15, 10))\n",
    "plot_speed(right, sizes)\n",
    "plot_speed(left, sizes)\n",
    "plot_speed(linalg, sizes)\n",
    "plt.title(\"Time comparison of Right/Left/Linalg methods for random triagonal matrices\").set_fontsize(\"xx-large\")\n",
    "plt.xlabel(\"size\").set_fontsize(\"xx-large\")\n",
    "plt.ylabel(\"time\").set_fontsize(\"xx-large\")\n",
    "# plt.xscale(\"log\")\n",
    "legend = plt.legend(loc=\"upper right\")\n",
    "for label in legend.get_texts():\n",
    "    label.set_fontsize(\"xx-large\")\n",
    "plt.show()"
   ]
  }
 ],
 "metadata": {
  "kernelspec": {
   "display_name": "Python 3",
   "language": "python",
   "name": "python3"
  },
  "language_info": {
   "codemirror_mode": {
    "name": "ipython",
    "version": 3
   },
   "file_extension": ".py",
   "mimetype": "text/x-python",
   "name": "python",
   "nbconvert_exporter": "python",
   "pygments_lexer": "ipython3",
   "version": "3.5.2"
  }
 },
 "nbformat": 4,
 "nbformat_minor": 1
}
