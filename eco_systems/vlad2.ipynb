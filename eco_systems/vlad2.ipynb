{
 "cells": [
  {
   "cell_type": "code",
   "execution_count": 1,
   "metadata": {},
   "outputs": [],
   "source": [
    "import numpy as np\n",
    "from scipy import linalg"
   ]
  },
  {
   "cell_type": "markdown",
   "metadata": {},
   "source": [
    "# 14.1"
   ]
  },
  {
   "cell_type": "markdown",
   "metadata": {},
   "source": [
    "## Задані виміри економіки країни"
   ]
  },
  {
   "cell_type": "code",
   "execution_count": 2,
   "metadata": {},
   "outputs": [],
   "source": [
    "X = np.array([\n",
    "    [1320, 1170],\n",
    "    [1060, 965]\n",
    "])"
   ]
  },
  {
   "cell_type": "code",
   "execution_count": 3,
   "metadata": {},
   "outputs": [],
   "source": [
    "y = np.array([\n",
    "    [1075],\n",
    "    [1185]\n",
    "])"
   ]
  },
  {
   "cell_type": "code",
   "execution_count": 4,
   "metadata": {},
   "outputs": [],
   "source": [
    "s = np.array([0.45, 0.2])"
   ]
  },
  {
   "cell_type": "markdown",
   "metadata": {},
   "source": [
    "# Модель міжгалузевої залежності цін"
   ]
  },
  {
   "cell_type": "markdown",
   "metadata": {},
   "source": [
    "Нехай $X$ - це матриця в якій $x_{i j}$ елемент позначає витрати продукції $i$-ї галузі на потреби $j$-ї.\n",
    "\n",
    "y - вектор $y_i$ елемент якого це обсяг $i$-ї продукції, що витрачається у невиробничій сфері.\n",
    "\n",
    "Тоді загальний випуск $i$-ї галузі (позначимо $x_i$), при загальній кількості галузей $n$, можна записати як:\n",
    "\\begin{equation}\n",
    "x_i = \\sum_{j=1}^n x_{i j} + y_i\n",
    "\\label{eq:sum_prod}\n",
    "\\tag{1}\n",
    "\\end{equation}\n",
    "\n",
    "У моделі Леонтьєва вводиться припущення про пропорційну залежність між витратами та об'ємом виробництва, тобто вводяться лінійно-однорідні функції виробничих витрат:\n",
    "\\begin{equation}\n",
    "x_{i j}=a_{i j} x_j => a_{i j} = \\frac{x_{i j}}{ x_j}\n",
    "\\label{eq:leon_assum}\n",
    "\\tag{2}\n",
    "\\end{equation}\n",
    "\n",
    "Модель міжгалузевої залежності цін описується рівнянням:\n",
    "\\begin{equation}\n",
    "p = A^T p + s => (E - A ^ T) p = s\n",
    "\\label{eq:pr_dep}\n",
    "\\tag{3}\n",
    "\\end{equation}\n",
    "Тут $p$ - вектор цін на товари, $s$ - вектор доданих вартостей в ціні"
   ]
  },
  {
   "cell_type": "code",
   "execution_count": 5,
   "metadata": {},
   "outputs": [
    {
     "name": "stdout",
     "output_type": "stream",
     "text": [
      "[[3565]\n",
      " [3210]]\n"
     ]
    }
   ],
   "source": [
    "x = (np.sum(X, axis=1).reshape(-1, 1) + y)\n",
    "print(x)"
   ]
  },
  {
   "cell_type": "code",
   "execution_count": 6,
   "metadata": {},
   "outputs": [
    {
     "name": "stdout",
     "output_type": "stream",
     "text": [
      "[[ 0.37026648  0.36448598]\n",
      " [ 0.2973352   0.30062305]]\n"
     ]
    }
   ],
   "source": [
    "A = X / x.T\n",
    "print(A)"
   ]
  },
  {
   "cell_type": "code",
   "execution_count": 7,
   "metadata": {},
   "outputs": [],
   "source": [
    "M = np.eye(A.shape[0]) - A.T"
   ]
  },
  {
   "cell_type": "code",
   "execution_count": 8,
   "metadata": {},
   "outputs": [
    {
     "name": "stdout",
     "output_type": "stream",
     "text": [
      "Ціни на промислову та сільськогосподарську продукцію: [ 1.12691012  0.87326719]\n"
     ]
    }
   ],
   "source": [
    "p = np.linalg.solve(M, s)\n",
    "print(\"Ціни на промислову та сільськогосподарську продукцію: {}\".format(p))"
   ]
  },
  {
   "cell_type": "markdown",
   "metadata": {},
   "source": [
    "# 14.2"
   ]
  },
  {
   "cell_type": "code",
   "execution_count": 9,
   "metadata": {},
   "outputs": [],
   "source": [
    "A = np.array([\n",
    "    [0.7, 0.05, 0.05],\n",
    "    [0.05, 0.75, 0.05],\n",
    "    [0.6, 0.15, 0.05]\n",
    "])\n",
    "y = np.array([\n",
    "    [1900],\n",
    "    [1500],\n",
    "    [1100]\n",
    "])"
   ]
  },
  {
   "cell_type": "markdown",
   "metadata": {},
   "source": [
    "## Аналіз матриці прямих виробничих витрат $A$"
   ]
  },
  {
   "cell_type": "code",
   "execution_count": 10,
   "metadata": {},
   "outputs": [],
   "source": [
    "w = linalg.eig(A, left=True)"
   ]
  },
  {
   "cell_type": "code",
   "execution_count": 11,
   "metadata": {},
   "outputs": [],
   "source": [
    "eigvalues = w[0]\n",
    "pol_coef = np.poly(w[0])\n",
    "max_eig_ind = np.argmax(w[0])\n",
    "fro_number = w[0][max_eig_ind]\n",
    "fro_l = w[1][:, max_eig_ind] * (-1 if w[1][0, max_eig_ind] < 0 else 1)\n",
    "fro_r = w[2][:, max_eig_ind] * (-1 if w[2][0, max_eig_ind] < 0 else 1)"
   ]
  },
  {
   "cell_type": "code",
   "execution_count": 12,
   "metadata": {},
   "outputs": [
    {
     "name": "stdout",
     "output_type": "stream",
     "text": [
      "Характеристичний поліном: [  1.00000000e+00  -1.50000000e+00   5.57500000e-01  -2.50000000e-04]\n",
      "Власні числа: 0.000448972689168, 0.676723625695, 0.822827401615\n",
      "Число Фробеніуса: 0.8228274016154079\n",
      "Лівий вектор Фробеніуса: (0.723483833587, 0.684306570005, 0.0910805181499)\n",
      "Правий вектор Фробеніуса: (0.494997713423, 0.69649905063, 0.519486608276)\n"
     ]
    }
   ],
   "source": [
    "print(\"Характеристичний поліном: {}\".format(pol_coef))\n",
    "print(\"Власні числа: {}\".format(\", \".join(map(lambda x: str(x.real), eigvalues))))\n",
    "print(\"Число Фробеніуса: {}\".format(fro_number.real))\n",
    "print(\"Лівий вектор Фробеніуса: ({})\".format(\", \".join(map(lambda x: str(x.real), fro_l))))\n",
    "print(\"Правий вектор Фробеніуса: ({})\".format(\", \".join(map(lambda x: str(x.real), fro_r))))"
   ]
  },
  {
   "cell_type": "markdown",
   "metadata": {},
   "source": [
    "## Продуктивність"
   ]
  },
  {
   "cell_type": "markdown",
   "metadata": {},
   "source": [
    "Теорема\n",
    "Для продуктивності моделі Леонтьєва необхідно й достататньо, щоб фробеніусове число $\\lambda_A$ матриці $A$ задовольняло нерівності $\\lambda_A < 1$"
   ]
  },
  {
   "cell_type": "code",
   "execution_count": 13,
   "metadata": {},
   "outputs": [
    {
     "name": "stdout",
     "output_type": "stream",
     "text": [
      "Матриця A - продуктивна\n"
     ]
    }
   ],
   "source": [
    "print(\"Матриця A - {}продуктивна\".format(\"\" if fro_number.real < 1 else \"не \"))"
   ]
  },
  {
   "cell_type": "markdown",
   "metadata": {},
   "source": [
    "## Матриця повних витрат"
   ]
  },
  {
   "cell_type": "markdown",
   "metadata": {},
   "source": [
    "Матриця повних витрат $B$ обчислюється як сума ряду:\n",
    "\\begin{align}\n",
    "B &= E + A + A^2 + ... + A^N \\\\\n",
    "N &\\rightarrow \\inf\n",
    "\\end{align}\n",
    "Для того, щоб дослідити ряд на збіжність та обчислити матрицю B побудуємо послідовність $B_i$, яка прямує до B:\n",
    "\\begin{align}\n",
    "&B_0 = E \\\\\n",
    "&B_{i + 1} = B_i A + E\n",
    "\\end{align}\n",
    "Тоді критерій збіжності набуває вигляду:\n",
    "$$max( \\bigl| B_i - B_{i + 1} \\bigr| ) < \\epsilon$$"
   ]
  },
  {
   "cell_type": "code",
   "execution_count": 14,
   "metadata": {},
   "outputs": [],
   "source": [
    "B = np.eye(A.shape[0])\n",
    "B_pr = B.copy()\n",
    "eps = 0.01\n",
    "for i in range(100):\n",
    "    B_pr, B = B, B_pr\n",
    "    B = np.dot(B_pr, A) + np.eye(A.shape[0])\n",
    "    if np.max(np.fabs(B - B_pr)) < eps:\n",
    "        break"
   ]
  },
  {
   "cell_type": "code",
   "execution_count": 15,
   "metadata": {},
   "outputs": [
    {
     "name": "stdout",
     "output_type": "stream",
     "text": [
      "Матриця повних витрат\n",
      "[[ 3.98575637  0.93122482  0.25804895]\n",
      " [ 1.30988624  4.41209929  0.30012244]\n",
      " [ 2.71792601  1.27902876  1.26222235]]\n"
     ]
    }
   ],
   "source": [
    "print(\"Матриця повних витрат\")\n",
    "print(B)"
   ]
  },
  {
   "cell_type": "markdown",
   "metadata": {},
   "source": [
    "## Вектор кінцевого випуску"
   ]
  },
  {
   "cell_type": "markdown",
   "metadata": {},
   "source": [
    "З моделі Леонтьєва:\n",
    "$$x = A x + y => (E-A) x = y$$\n",
    "Розвязавши систему лінійних рівнянь отримуємо вектор кінцевого випуску $x$"
   ]
  },
  {
   "cell_type": "code",
   "execution_count": 16,
   "metadata": {},
   "outputs": [],
   "source": [
    "x = np.linalg.solve(np.eye(A.shape[0]) - A, y)"
   ]
  },
  {
   "cell_type": "code",
   "execution_count": 17,
   "metadata": {},
   "outputs": [
    {
     "data": {
      "text/plain": [
       "array([[ 9362.44541485],\n",
       "       [ 9589.51965066],\n",
       "       [ 8585.15283843]])"
      ]
     },
     "execution_count": 17,
     "metadata": {},
     "output_type": "execute_result"
    }
   ],
   "source": [
    "x"
   ]
  },
  {
   "cell_type": "code",
   "execution_count": null,
   "metadata": {},
   "outputs": [],
   "source": []
  }
 ],
 "metadata": {
  "kernelspec": {
   "display_name": "Python 3",
   "language": "python",
   "name": "python3"
  },
  "language_info": {
   "codemirror_mode": {
    "name": "ipython",
    "version": 3
   },
   "file_extension": ".py",
   "mimetype": "text/x-python",
   "name": "python",
   "nbconvert_exporter": "python",
   "pygments_lexer": "ipython3",
   "version": "3.6.4"
  }
 },
 "nbformat": 4,
 "nbformat_minor": 2
}
