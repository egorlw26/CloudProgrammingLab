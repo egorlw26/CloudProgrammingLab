{
 "cells": [
  {
   "cell_type": "code",
   "execution_count": 1,
   "metadata": {},
   "outputs": [],
   "source": [
    "import numpy as np\n",
    "from scipy.optimize import minimize, curve_fit\n",
    "from scipy.misc import derivative\n",
    "from IPython.display import display, Math, Latex\n",
    "\n",
    "def bmatrix(a, pref=''):\n",
    "    lines = str(a).replace('[', '').replace(']', '').splitlines()\n",
    "    rv = [r'\\begin{bmatrix}']\n",
    "    rv += ['  ' + ' & '.join(l.split()) + r'\\\\' for l in lines]\n",
    "    rv +=  [r'\\end{bmatrix}']\n",
    "    return Math(pref + '\\n'.join(rv))\n",
    "\n",
    "def resources(x):\n",
    "    return Math('K = {:.4f}, L = {:.4f}'.format(*x))"
   ]
  },
  {
   "cell_type": "code",
   "execution_count": 2,
   "metadata": {},
   "outputs": [],
   "source": [
    "outer_coefs = np.array([3.2, 5.8, 14.2, 8.7])\n",
    "inner_coefs = np.array([4, 8, 0, 3])\n",
    "\n",
    "p = np.array([20, 25, 15, 15])\n",
    "I = 1000\n",
    "\n",
    "bounds = [(coef, None) for coef in inner_coefs]\n",
    "\n",
    "def partial_derivative(f, var, point=[]):\n",
    "    args = point[:]\n",
    "\n",
    "    def wraps(x):\n",
    "        args[var] = x\n",
    "        return f(args)\n",
    "\n",
    "    return derivative(wraps, point[var], dx = 1e-6)\n",
    "\n",
    "def U(x):\n",
    "    return sum(outer * np.log(x_i - inner) for outer, x_i, inner in zip(outer_coefs, x, inner_coefs))\n",
    "\n",
    "def solve(args, objective, constraints, name):\n",
    "    solution = minimize(\n",
    "        objective,\n",
    "        args,\n",
    "        method='SLSQP',\n",
    "        bounds=bounds,\n",
    "        constraints=constraints\n",
    "    )\n",
    "    display(bmatrix(solution.x, '{} = '.format(name))) \n",
    "    return solution.x"
   ]
  },
  {
   "cell_type": "markdown",
   "metadata": {},
   "source": [
    "## Маршаліанський підхід"
   ]
  },
  {
   "cell_type": "code",
   "execution_count": 12,
   "metadata": {},
   "outputs": [
    {
     "data": {
      "text/latex": [
       "$$x = \\begin{bmatrix}\n",
       "  7.38503176 & 12.90909334 & 20.03276307 & 15.27203902\\\\\n",
       "\\end{bmatrix}$$"
      ],
      "text/plain": [
       "<IPython.core.display.Math object>"
      ]
     },
     "metadata": {},
     "output_type": "display_data"
    },
    {
     "data": {
      "text/latex": [
       "$$f(x) = 77.5066$$"
      ],
      "text/plain": [
       "<IPython.core.display.Math object>"
      ]
     },
     "metadata": {},
     "output_type": "display_data"
    },
    {
     "data": {
      "text/latex": [
       "$$L = \\begin{bmatrix}\n",
       "  0.04726691251732973, & 0.04725923588466685, & 0.04725592077647889, & 0.047261909704351034\\\\\n",
       "\\end{bmatrix}$$"
      ],
      "text/plain": [
       "<IPython.core.display.Math object>"
      ]
     },
     "metadata": {},
     "output_type": "display_data"
    }
   ],
   "source": [
    "args = np.array([4.2, 8.7, 0.2, 3.7])\n",
    "objective = lambda x: -U(x)\n",
    "constraints = {\n",
    "    'type': 'ineq',\n",
    "    'fun': lambda x: I - np.dot(p, x)\n",
    "}\n",
    "x = solve(args, objective, constraints, 'x')\n",
    "display(Math(\"f(x) = {:.4f}\".format(-objective(x))))\n",
    "L = [partial_derivative(U, i, x) / p[i] for i in range(4)]\n",
    "display(bmatrix(L, 'L = ')) \n",
    "#display(Math(\"L = {:.4f}\".format(partial_derivative(U, 0, x) / p[0])))"
   ]
  },
  {
   "cell_type": "markdown",
   "metadata": {},
   "source": [
    "## Хіксіанський підхід"
   ]
  },
  {
   "cell_type": "code",
   "execution_count": 13,
   "metadata": {
    "scrolled": true
   },
   "outputs": [
    {
     "data": {
      "text/latex": [
       "$$h = \\begin{bmatrix}\n",
       "  4.29815315 & 8.43232021 & 1.76407106 & 4.08080261\\\\\n",
       "\\end{bmatrix}$$"
      ],
      "text/plain": [
       "<IPython.core.display.Math object>"
      ]
     },
     "metadata": {},
     "output_type": "display_data"
    },
    {
     "data": {
      "text/latex": [
       "$$f(h) = 1000.0001$$"
      ],
      "text/plain": [
       "<IPython.core.display.Math object>"
      ]
     },
     "metadata": {},
     "output_type": "display_data"
    },
    {
     "data": {
      "text/latex": [
       "$$L = \\begin{bmatrix}\n",
       "  1.863457206027938, & 1.863449172125002, & 1.8634553403607232, & 1.8634527689510587\\\\\n",
       "\\end{bmatrix}$$"
      ],
      "text/plain": [
       "<IPython.core.display.Math object>"
      ]
     },
     "metadata": {},
     "output_type": "display_data"
    }
   ],
   "source": [
    "args = np.array([4.7325, 8.2082228, 0.7006161,  3.66873595])\n",
    "objective = lambda h: np.dot(p, h)\n",
    "constraints = {\n",
    "    'type': 'ineq',\n",
    "    'fun': lambda h: U(h) - U(inner_coefs + 1)\n",
    "}\n",
    "h = solve(args, objective, constraints, 'h')\n",
    "display(Math(\"f(h) = {:.4f}\".format(objective(x))))\n",
    "L = [p[i] / partial_derivative(U, i, h) for i in range(4)]\n",
    "display(bmatrix(L, 'L = ')) \n",
    "#display(Math(\"L = {:.4f}\".format(p[0]/partial_derivative(U, 0, h))))"
   ]
  },
  {
   "cell_type": "code",
   "execution_count": 5,
   "metadata": {},
   "outputs": [],
   "source": [
    "K = [49920, 45750, 50550, 505750, 47820, 47900, 51900, 45970, 48030, 48100]\n",
    "L = [10680, 10310, 10680, 10800, 10040, 10420, 10940, 10710, 9900, 9930]\n",
    "F = [2860, 2940, 2950, 2880, 2510, 2690, 2990, 2800, 3000, 3070]"
   ]
  },
  {
   "cell_type": "markdown",
   "metadata": {},
   "source": [
    "## Мультиплікативна виробнича функція"
   ]
  },
  {
   "cell_type": "code",
   "execution_count": 6,
   "metadata": {},
   "outputs": [
    {
     "data": {
      "text/latex": [
       "$$F = 1675.79  K^{0.0019} L^{0.0559}$$"
      ],
      "text/plain": [
       "<IPython.core.display.Math object>"
      ]
     },
     "metadata": {},
     "output_type": "display_data"
    }
   ],
   "source": [
    "def cobb_douglas(x, A, a, b):\n",
    "    return A * x[0]**a * x[1]**b\n",
    "\n",
    "p0 = [3.155989, 0.68368306, 0.13993322]\n",
    "coeffs, _ = curve_fit(cobb_douglas, (K, L) , F, p0)\n",
    "display(Math(\"F = {:.2f}  K^{{{:.4f}}} L^{{{:.4f}}}\".format(coeffs[0], coeffs[1], coeffs[2])))"
   ]
  },
  {
   "cell_type": "markdown",
   "metadata": {},
   "source": [
    "## Ефект масштабу та еластичність заміщення"
   ]
  },
  {
   "cell_type": "code",
   "execution_count": 7,
   "metadata": {},
   "outputs": [
    {
     "name": "stdout",
     "output_type": "stream",
     "text": [
      "Прибуток зменшується із масштабом\n",
      "Еластичність заміщення для функції Кобба-Дугласа const = 1\n"
     ]
    }
   ],
   "source": [
    "if abs(coeffs[1] + coeffs[2] - 1) < 1e-3:\n",
    "    print('Постійний прибуток до масштабу')\n",
    "elif coeffs[1] + coeffs[2] > 1:\n",
    "    print('Прибуток збільшується із масштабом')\n",
    "else:\n",
    "    print('Прибуток зменшується із масштабом')\n",
    "    \n",
    "print('Еластичність заміщення для функції Кобба-Дугласа const = 1')"
   ]
  },
  {
   "cell_type": "code",
   "execution_count": 8,
   "metadata": {},
   "outputs": [],
   "source": [
    "price = 70\n",
    "w = [100, 100]\n",
    "\n",
    "def pi(x):\n",
    "    return np.dot(w, x) - price * cobb_douglas(x, coeffs[0], coeffs[1], coeffs[2])\n",
    "\n",
    "bounds1 = [\n",
    "    (0, None),\n",
    "    (0, None),\n",
    "]"
   ]
  },
  {
   "cell_type": "markdown",
   "metadata": {},
   "source": [
    "## Короткостроковий прибуток"
   ]
  },
  {
   "cell_type": "code",
   "execution_count": 9,
   "metadata": {},
   "outputs": [
    {
     "data": {
      "text/latex": [
       "$$K = 0.2190, L = 1.2397$$"
      ],
      "text/plain": [
       "<IPython.core.display.Math object>"
      ]
     },
     "metadata": {},
     "output_type": "display_data"
    },
    {
     "data": {
      "text/latex": [
       "$$profit = 118234.8969$$"
      ],
      "text/plain": [
       "<IPython.core.display.Math object>"
      ]
     },
     "metadata": {},
     "output_type": "display_data"
    }
   ],
   "source": [
    "constraint = {\n",
    "    'type': 'ineq', \n",
    "    'fun': lambda x: 10 - (x[0] **2 + x[1] ** 2)**5\n",
    "}\n",
    "\n",
    "short_solution = minimize(pi, [1, 1], method='SLSQP', bounds=bounds1, constraints=constraint)\n",
    "display(resources(short_solution.x))\n",
    "display(Math('profit = {:.4f}'.format(-pi(short_solution.x))))"
   ]
  },
  {
   "cell_type": "markdown",
   "metadata": {},
   "source": [
    "## Довгостроковий прибуток"
   ]
  },
  {
   "cell_type": "code",
   "execution_count": 11,
   "metadata": {},
   "outputs": [
    {
     "name": "stdout",
     "output_type": "stream",
     "text": [
      "Витрати ресурсів: \n"
     ]
    },
    {
     "data": {
      "text/latex": [
       "$$K = 71.5496, L = 350.3503$$"
      ],
      "text/plain": [
       "<IPython.core.display.Math object>"
      ]
     },
     "metadata": {},
     "output_type": "display_data"
    },
    {
     "name": "stdout",
     "output_type": "stream",
     "text": [
      "Ціни ресурсів: \n"
     ]
    },
    {
     "data": {
      "text/latex": [
       "$$K = 0.7887, L = 6.7588$$"
      ],
      "text/plain": [
       "<IPython.core.display.Math object>"
      ]
     },
     "metadata": {},
     "output_type": "display_data"
    },
    {
     "name": "stdout",
     "output_type": "stream",
     "text": [
      "Ціна:  70.82780491139616\n",
      "Обсяг продукції:  2343.414161305175\n"
     ]
    }
   ],
   "source": [
    "def price_func(x):\n",
    "    return -x / 80 + 8310/83\n",
    "\n",
    "def wK(x):\n",
    "    return 0.025 * x[0] - 1\n",
    "\n",
    "def wL(x):\n",
    "    return 0.025 * x[1] - 2\n",
    "\n",
    "def wM(x):\n",
    "    return (wK(x), wL(x))\n",
    "\n",
    "\n",
    "def monopoly_pi(x):\n",
    "    q = cobb_douglas(x, coeffs[0], coeffs[1], coeffs[2])\n",
    "    mw = wM(x)\n",
    "    return mw[0] * x[0] + mw[1] * x[1] - price_func(q) * q\n",
    "\n",
    "monopoly_solution = minimize(monopoly_pi, [1, 1], method='SLSQP', bounds=bounds1, constraints=[])\n",
    "\n",
    "print(\"Витрати ресурсів: \")\n",
    "display(resources(monopoly_solution.x))\n",
    "print(\"Ціни ресурсів: \")\n",
    "display(resources((wK(monopoly_solution.x), wL(monopoly_solution.x))))\n",
    "print(\"Ціна: \", price_func(cobb_douglas(monopoly_solution.x, coeffs[0], coeffs[1], coeffs[2])))\n",
    "print(\"Обсяг продукції: \", cobb_douglas(monopoly_solution.x, coeffs[0], coeffs[1], coeffs[2]))"
   ]
  }
 ],
 "metadata": {
  "kernelspec": {
   "display_name": "Python 3",
   "language": "python",
   "name": "python3"
  },
  "language_info": {
   "codemirror_mode": {
    "name": "ipython",
    "version": 3
   },
   "file_extension": ".py",
   "mimetype": "text/x-python",
   "name": "python",
   "nbconvert_exporter": "python",
   "pygments_lexer": "ipython3",
   "version": "3.6.4"
  }
 },
 "nbformat": 4,
 "nbformat_minor": 2
}
