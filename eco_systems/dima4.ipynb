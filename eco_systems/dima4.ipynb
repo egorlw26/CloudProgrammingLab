{
 "cells": [
  {
   "cell_type": "markdown",
   "metadata": {},
   "source": [
    "# <center>Частина І</center>"
   ]
  },
  {
   "cell_type": "markdown",
   "metadata": {},
   "source": [
    "$$ f(t, N, \\alpha, \\beta, \\gamma) = \\frac{\\alpha N^{2}}{N + 1} - \\beta N - \\gamma N^{2} $$"
   ]
  },
  {
   "cell_type": "code",
   "execution_count": 2,
   "metadata": {
    "collapsed": false
   },
   "outputs": [],
   "source": [
    "from scipy.integrate import ode\n",
    "\n",
    "birth_rate = 128\n",
    "death_rate = 90\n",
    "\n",
    "intraspecific_competition = 2\n",
    "\n",
    "ps = [birth_rate, death_rate, intraspecific_competition]\n",
    "\n",
    "def f(t, N, ps):\n",
    "    return ps[0] * (N ** 2) / (N + 1) - ps[1] * N - ps[2] * (N ** 2)\n",
    "\n",
    "def solve(N0, t0=0, t1=1, h=0.05):\n",
    "    r = ode(f).set_integrator('dopri5')\n",
    "    r.set_initial_value(N0, t0).set_f_params(ps)\n",
    "    \n",
    "    N = [N0]\n",
    "    t = [t0]\n",
    "    \n",
    "    while r.successful() and r.t < t1:\n",
    "        t.append(r.t + h)\n",
    "        N.append(r.integrate(r.t + h))\n",
    "    return N, t"
   ]
  },
  {
   "cell_type": "markdown",
   "metadata": {},
   "source": [
    "$$ L = \\frac{-\\sqrt{(\\alpha - \\beta - \\gamma)^2 - 4\\beta\\gamma} - \\alpha + \\beta + \\gamma}{-2\\gamma} $$\n",
    "$$ K = \\frac{\\sqrt{(\\alpha - \\beta - \\gamma)^2 - 4\\beta\\gamma} - \\alpha + \\beta + \\gamma}{-2\\gamma} $$"
   ]
  },
  {
   "cell_type": "code",
   "execution_count": 3,
   "metadata": {
    "collapsed": false
   },
   "outputs": [
    {
     "name": "stdout",
     "output_type": "stream",
     "text": [
      "Нижня межа: 3.0, верхня межа: 15.0\n"
     ]
    }
   ],
   "source": [
    "num_part = ((ps[0] - ps[1] - ps[2]) ** 2 - 4*ps[1]*ps[2]) ** 0.5\n",
    "L = (-num_part - ps[0] + ps[1] + ps[2]) / (-2 * ps[2])\n",
    "K = (num_part - ps[0] + ps[1] + ps[2]) / (-2 * ps[2])\n",
    "\n",
    "if K < L:\n",
    "    L, K = K, L\n",
    "print(\"Нижня межа: {}, верхня межа: {}\".format(L, K))"
   ]
  },
  {
   "cell_type": "code",
   "execution_count": 16,
   "metadata": {},
   "outputs": [
    {
     "data": {
      "text/plain": [
       "(3.0, 15.0)"
      ]
     },
     "execution_count": 16,
     "metadata": {},
     "output_type": "execute_result"
    }
   ],
   "source": [
    "L, K"
   ]
  },
  {
   "cell_type": "code",
   "execution_count": 4,
   "metadata": {
    "collapsed": false
   },
   "outputs": [],
   "source": [
    "options = [\n",
    "    [1./4. * L, \"< L/2\"],\n",
    "    [3./4. * L, \"> L/2\"],\n",
    "    [L, \"L\"],\n",
    "    [1./4. * (K + L), \"< (K + L)/2\"],\n",
    "    [3./4. * (K + L), \"> (K + L)/2\"],\n",
    "    [K, \"K\"],\n",
    "    [1.25 * K, \"> K\"]\n",
    "]"
   ]
  },
  {
   "cell_type": "code",
   "execution_count": 15,
   "metadata": {},
   "outputs": [
    {
     "data": {
      "text/plain": [
       "[[0.75, '< L/2'],\n",
       " [2.25, '> L/2'],\n",
       " [3.0, 'L'],\n",
       " [4.5, '< (K + L)/2'],\n",
       " [13.5, '> (K + L)/2'],\n",
       " [15.0, 'K'],\n",
       " [18.75, '> K']]"
      ]
     },
     "execution_count": 15,
     "metadata": {},
     "output_type": "execute_result"
    }
   ],
   "source": [
    "options"
   ]
  },
  {
   "cell_type": "code",
   "execution_count": 8,
   "metadata": {
    "collapsed": false
   },
   "outputs": [
    {
     "data": {
      "image/png": "[encoded data removed]",
      "text/plain": [
       "<matplotlib.figure.Figure at 0x7fbacaa62e80>"
      ]
     },
     "metadata": {},
     "output_type": "display_data"
    }
   ],
   "source": [
    "import matplotlib.pyplot as plt\n",
    "\n",
    "t0 = 0\n",
    "t1 = 0.5\n",
    "fig, ax = plt.subplots()\n",
    "lines=[]\n",
    "\n",
    "for ind, opt in enumerate(options):\n",
    "    N0 = opt[0]\n",
    "    def_text = opt[1]\n",
    "    N, t = solve(N0, h=0.01)\n",
    "    lines.append(ax.plot(t, N, label=def_text)[0])\n",
    "\n",
    "ax.legend(handles=lines)\n",
    "plt.show()"
   ]
  },
  {
   "cell_type": "markdown",
   "metadata": {},
   "source": [
    "# <center>Частина ІI</center>"
   ]
  },
  {
   "cell_type": "markdown",
   "metadata": {},
   "source": [
    "$$ \\frac{dN}{dt} = -0.056 * N + 0.0004 * N^2 $$"
   ]
  },
  {
   "cell_type": "code",
   "execution_count": 6,
   "metadata": {
    "collapsed": false
   },
   "outputs": [],
   "source": [
    "options = [\n",
    "    [100, \"N(0) = 100\"],\n",
    "    [140, \"N(0) = 140\"],\n",
    "    [180, \"N(0) = 180\"]\n",
    "]\n",
    "t1 = 24\n",
    "\n",
    "def f(t, N):\n",
    "    return -0.056 * N + 0.0004 * (N**2)\n",
    "\n",
    "def solve(N0, t0=0, t1=1, h=0.05):\n",
    "    r = ode(f).set_integrator('vode', method='bdf')\n",
    "    r.set_initial_value(N0, t0)\n",
    "    \n",
    "    N = [N0]\n",
    "    t = [t0]\n",
    "    \n",
    "    while r.successful() and r.t < t1:\n",
    "        t.append(r.t + h)\n",
    "        N.append(r.integrate(r.t + h))\n",
    "    return N, t"
   ]
  },
  {
   "cell_type": "code",
   "execution_count": 7,
   "metadata": {
    "collapsed": false
   },
   "outputs": [
    {
     "data": {
      "text/plain": [
       "<Figure size 432x288 with 0 Axes>"
      ]
     },
     "execution_count": 7,
     "metadata": {},
     "output_type": "execute_result"
    },
    {
     "data": {
      "image/png": "[encoded data removed]"
     },
     "execution_count": 7,
     "metadata": {
      "image/png": {
       "height": 250,
       "width": 379
      }
     },
     "output_type": "execute_result"
    }
   ],
   "source": [
    "plt.gcf().clear()\n",
    "fig, ax = plt.subplots()\n",
    "lines = []\n",
    "for ind, opt in enumerate(options):\n",
    "    N0 = opt[0]\n",
    "    def_text = opt[1]\n",
    "    N, t = solve(N0, t0=0, t1=t1, h=0.01)\n",
    "    lines.append(ax.plot(t, N, label=def_text)[0])\n",
    "    \n",
    "ax.legend(handles=lines)\n",
    "plt.show()"
   ]
  },
  {
   "cell_type": "code",
   "execution_count": null,
   "metadata": {
    "collapsed": false
   },
   "outputs": [],
   "source": []
  }
 ],
 "metadata": {
  "kernelspec": {
   "display_name": "Python 3",
   "language": "python",
   "name": "python3"
  },
  "language_info": {
   "codemirror_mode": {
    "name": "ipython",
    "version": 3
   },
   "file_extension": ".py",
   "mimetype": "text/x-python",
   "name": "python",
   "nbconvert_exporter": "python",
   "pygments_lexer": "ipython3",
   "version": "3.6.4"
  }
 },
 "nbformat": 4,
 "nbformat_minor": 2
}
