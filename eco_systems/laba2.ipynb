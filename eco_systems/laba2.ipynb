{
 "cells": [
  {
   "cell_type": "markdown",
   "metadata": {},
   "source": [
    "# Лаба Дмитро\n",
    "\n",
    "## Лабораторна робота №2\n",
    "## Варіант 2"
   ]
  },
  {
   "cell_type": "code",
   "execution_count": 1,
   "metadata": {},
   "outputs": [],
   "source": [
    "import numpy as np\n",
    "import sympy as sp\n",
    "from scipy.linalg import eig\n",
    "from sympy.matrices import Matrix\n",
    "from IPython.display import display, Math, Latex\n",
    "\n",
    "def bmatrix(a):\n",
    "    lines = str(a).replace('[', '').replace(']', '').splitlines()\n",
    "    rv = [r'\\begin{bmatrix}']\n",
    "    rv += ['  ' + ' & '.join(l.split()) + r'\\\\' for l in lines]\n",
    "    rv +=  [r'\\end{bmatrix}']\n",
    "    return Math('\\n'.join(rv))"
   ]
  },
  {
   "cell_type": "markdown",
   "metadata": {},
   "source": [
    "# Завдання №1"
   ]
  },
  {
   "cell_type": "code",
   "execution_count": 2,
   "metadata": {},
   "outputs": [],
   "source": [
    "industry = (600, 450, 1200)\n",
    "industry_added_value = 0.3\n",
    "\n",
    "agriculture = (450, 400, 700)\n",
    "agriculture_added_value = 0.5\n",
    "\n",
    "matrix = np.array([industry, agriculture])\n",
    "added_value = np.array([industry_added_value, agriculture_added_value])"
   ]
  },
  {
   "cell_type": "code",
   "execution_count": 3,
   "metadata": {},
   "outputs": [
    {
     "name": "stdout",
     "output_type": "stream",
     "text": [
      "Прямі витрати: \n"
     ]
    },
    {
     "data": {
      "text/latex": [
       "$$\\begin{bmatrix}\n",
       "  0.26666667 & 0.29032258\\\\\n",
       "  0.2 & 0.25806452\\\\\n",
       "\\end{bmatrix}$$"
      ],
      "text/plain": [
       "<IPython.core.display.Math object>"
      ]
     },
     "metadata": {},
     "output_type": "display_data"
    }
   ],
   "source": [
    "gross_output = np.sum(matrix, axis=1)\n",
    "direct_expenses = matrix[0:2, 0:2]/gross_output\n",
    "print('Прямі витрати: ')\n",
    "display(bmatrix(direct_expenses))"
   ]
  },
  {
   "cell_type": "code",
   "execution_count": 4,
   "metadata": {},
   "outputs": [
    {
     "name": "stdout",
     "output_type": "stream",
     "text": [
      "Повні витрати: \n"
     ]
    },
    {
     "data": {
      "text/latex": [
       "$$\\begin{bmatrix}\n",
       "  1.52654867 & 0.59734513\\\\\n",
       "  0.41150442 & 1.50884956\\\\\n",
       "\\end{bmatrix}$$"
      ],
      "text/plain": [
       "<IPython.core.display.Math object>"
      ]
     },
     "metadata": {},
     "output_type": "display_data"
    }
   ],
   "source": [
    "full_expenses = np.linalg.inv(np.eye(len(direct_expenses)) - direct_expenses)\n",
    "print('Повні витрати: ')\n",
    "display(bmatrix(full_expenses))"
   ]
  },
  {
   "cell_type": "code",
   "execution_count": 5,
   "metadata": {},
   "outputs": [
    {
     "name": "stdout",
     "output_type": "stream",
     "text": [
      "Ціни на промислову та сільськогосподарську продукцію: \n"
     ]
    },
    {
     "data": {
      "text/latex": [
       "$$\\begin{bmatrix}\n",
       "  0.66371681 & 0.93362832\\\\\n",
       "\\end{bmatrix}$$"
      ],
      "text/plain": [
       "<IPython.core.display.Math object>"
      ]
     },
     "metadata": {},
     "output_type": "display_data"
    }
   ],
   "source": [
    "prices = added_value @ full_expenses\n",
    "print('Ціни на промислову та сільськогосподарську продукцію: ')\n",
    "display(bmatrix(prices))"
   ]
  },
  {
   "cell_type": "markdown",
   "metadata": {},
   "source": [
    "\n",
    "# Завдання №2"
   ]
  },
  {
   "cell_type": "code",
   "execution_count": 6,
   "metadata": {},
   "outputs": [],
   "source": [
    "A = np.array([\n",
    "    [0.4, 0.4, 0.2], \n",
    "    [0.2, 0.5, 0.4],\n",
    "    [0.1, 0.1, 0.2]\n",
    "])\n",
    "n = len(A)"
   ]
  },
  {
   "cell_type": "markdown",
   "metadata": {},
   "source": [
    "## Власні числа"
   ]
  },
  {
   "cell_type": "code",
   "execution_count": 7,
   "metadata": {},
   "outputs": [
    {
     "name": "stdout",
     "output_type": "stream",
     "text": [
      "(0.84 + 0.00i)\n",
      "(0.13 + 0.07i)\n",
      "(0.13 - 0.07i)\n"
     ]
    }
   ],
   "source": [
    "eigvals = np.linalg.eigvals(A)\n",
    "print('\\n'.join(['({0:.2f} {1} {2:.2f}i)'.format(n.real, '+-'[n.imag < 0], abs(n.imag)) for n in eigvals]))"
   ]
  },
  {
   "cell_type": "markdown",
   "metadata": {},
   "source": [
    "## Коефіцієнти характеристичного поліному"
   ]
  },
  {
   "cell_type": "code",
   "execution_count": 8,
   "metadata": {},
   "outputs": [
    {
     "data": {
      "text/latex": [
       "$$1.0 \\left(1.0 \\lambda^{3} - 1.1 \\lambda^{2} + 0.24 \\lambda - 0.018\\right)$$"
      ],
      "text/plain": [
       "    ⎛     3        2                 ⎞\n",
       "1.0⋅⎝1.0⋅λ  - 1.1⋅λ  + 0.24⋅λ - 0.018⎠"
      ]
     },
     "metadata": {},
     "output_type": "display_data"
    }
   ],
   "source": [
    "M = Matrix(A)\n",
    "lamda = sp.symbols('lamda')\n",
    "characteristic_polynomial = M.charpoly(lamda)\n",
    "sp.init_printing(use_latex='mathjax')\n",
    "display(sp.factor(characteristic_polynomial))"
   ]
  },
  {
   "cell_type": "markdown",
   "metadata": {},
   "source": [
    "## Число Фробеніуса"
   ]
  },
  {
   "cell_type": "code",
   "execution_count": 9,
   "metadata": {},
   "outputs": [
    {
     "name": "stdout",
     "output_type": "stream",
     "text": [
      "0.84\n"
     ]
    }
   ],
   "source": [
    "frobenius_number = np.real(np.max(eigvals)) \n",
    "print('{0:.2f}'.format(frobenius_number))"
   ]
  },
  {
   "cell_type": "markdown",
   "metadata": {},
   "source": [
    "## Правий та лівий вектори Фробеніуса"
   ]
  },
  {
   "cell_type": "code",
   "execution_count": 10,
   "metadata": {},
   "outputs": [
    {
     "name": "stdout",
     "output_type": "stream",
     "text": [
      "Лівий вектор: \n"
     ]
    },
    {
     "data": {
      "text/latex": [
       "$$\\begin{bmatrix}\n",
       "  0.44397979 & 0.69076468 & 0.57072419\\\\\n",
       "\\end{bmatrix}$$"
      ],
      "text/plain": [
       "<IPython.core.display.Math object>"
      ]
     },
     "metadata": {},
     "output_type": "display_data"
    },
    {
     "name": "stdout",
     "output_type": "stream",
     "text": [
      "Перевірка: \n"
     ]
    },
    {
     "data": {
      "text/latex": [
       "$$\\begin{bmatrix}\n",
       "  0.37281727 & 0.58004668 & 0.47924667\\\\\n",
       "\\end{bmatrix}$$"
      ],
      "text/plain": [
       "<IPython.core.display.Math object>"
      ]
     },
     "metadata": {},
     "output_type": "display_data"
    },
    {
     "data": {
      "text/latex": [
       "$$\\begin{bmatrix}\n",
       "  0.37281727 & 0.58004668 & 0.47924667\\\\\n",
       "\\end{bmatrix}$$"
      ],
      "text/plain": [
       "<IPython.core.display.Math object>"
      ]
     },
     "metadata": {},
     "output_type": "display_data"
    },
    {
     "name": "stdout",
     "output_type": "stream",
     "text": [
      "Правий вектор: \n"
     ]
    },
    {
     "data": {
      "text/latex": [
       "$$\\begin{bmatrix}\n",
       "  0.7089431 & 0.67144485 & 0.21578112\\\\\n",
       "\\end{bmatrix}$$"
      ],
      "text/plain": [
       "<IPython.core.display.Math object>"
      ]
     },
     "metadata": {},
     "output_type": "display_data"
    },
    {
     "name": "stdout",
     "output_type": "stream",
     "text": [
      "Перевірка: \n"
     ]
    },
    {
     "data": {
      "text/latex": [
       "$$\\begin{bmatrix}\n",
       "  0.5953114 & 0.56382349 & 0.18119502\\\\\n",
       "\\end{bmatrix}$$"
      ],
      "text/plain": [
       "<IPython.core.display.Math object>"
      ]
     },
     "metadata": {},
     "output_type": "display_data"
    },
    {
     "data": {
      "text/latex": [
       "$$\\begin{bmatrix}\n",
       "  0.5953114 & 0.56382349 & 0.18119502\\\\\n",
       "\\end{bmatrix}$$"
      ],
      "text/plain": [
       "<IPython.core.display.Math object>"
      ]
     },
     "metadata": {},
     "output_type": "display_data"
    }
   ],
   "source": [
    "a, left, right = eig(A, left=True)\n",
    "print('Лівий вектор: ')\n",
    "left_frobenius = np.real(left[:, 0])\n",
    "display(bmatrix(left_frobenius))\n",
    "\n",
    "print('Перевірка: ')\n",
    "display(bmatrix(left_frobenius @ A))\n",
    "display(bmatrix(frobenius_number * left_frobenius))\n",
    "\n",
    "\n",
    "print('Правий вектор: ')\n",
    "right_frobenius = np.real(right[:, 0])\n",
    "display(bmatrix(right_frobenius))\n",
    "\n",
    "print('Перевірка: ')\n",
    "display(bmatrix(A @ right_frobenius))\n",
    "display(bmatrix(frobenius_number * right_frobenius))\n",
    "\n"
   ]
  },
  {
   "cell_type": "markdown",
   "metadata": {},
   "source": [
    "## Продуктивність матриці"
   ]
  },
  {
   "cell_type": "markdown",
   "metadata": {},
   "source": [
    "За критерієм Леонтьєва, необхідня і достатня умова $\\lambda_A < 1$ виконується, тому матриця є продуктивною"
   ]
  },
  {
   "cell_type": "markdown",
   "metadata": {},
   "source": [
    "## Матриця повних витрат"
   ]
  },
  {
   "cell_type": "code",
   "execution_count": 11,
   "metadata": {},
   "outputs": [
    {
     "data": {
      "text/latex": [
       "$$\\begin{bmatrix}\n",
       "  2.95081967 & 2.78688525 & 2.13114754\\\\\n",
       "  1.63934426 & 3.7704918 & 2.29508197\\\\\n",
       "  0.57377049 & 0.81967213 & 1.80327869\\\\\n",
       "\\end{bmatrix}$$"
      ],
      "text/plain": [
       "<IPython.core.display.Math object>"
      ]
     },
     "metadata": {},
     "output_type": "display_data"
    }
   ],
   "source": [
    "B = np.linalg.inv(np.eye(len(A)) - A)\n",
    "display(bmatrix(B))"
   ]
  },
  {
   "cell_type": "markdown",
   "metadata": {},
   "source": [
    "## Збіжність до матриці повних витрат"
   ]
  },
  {
   "cell_type": "code",
   "execution_count": 12,
   "metadata": {},
   "outputs": [
    {
     "name": "stdout",
     "output_type": "stream",
     "text": [
      "Матриця збіжна до матриці повних витрат на кроці 193\n"
     ]
    },
    {
     "data": {
      "text/latex": [
       "$$\\begin{bmatrix}\n",
       "  2.95081967 & 2.78688525 & 2.13114754\\\\\n",
       "  1.63934426 & 3.7704918 & 2.29508197\\\\\n",
       "  0.57377049 & 0.81967213 & 1.80327869\\\\\n",
       "\\end{bmatrix}$$"
      ],
      "text/plain": [
       "<IPython.core.display.Math object>"
      ]
     },
     "metadata": {},
     "output_type": "display_data"
    }
   ],
   "source": [
    "matrix_sum, A_power = np.eye(n), np.eye(n)\n",
    "for i in range(200):\n",
    "    A_power = A_power @ A\n",
    "    matrix_sum += A_power\n",
    "    if np.all(B - matrix_sum) < 0.01:\n",
    "        print('Матриця збіжна до матриці повних витрат на кроці {}'.format(i))\n",
    "        break\n",
    "display(bmatrix(matrix_sum))"
   ]
  },
  {
   "cell_type": "markdown",
   "metadata": {},
   "source": [
    "## Вектор кінцевого випуску"
   ]
  },
  {
   "cell_type": "code",
   "execution_count": 13,
   "metadata": {},
   "outputs": [
    {
     "data": {
      "text/latex": [
       "$$\\begin{bmatrix}\n",
       "  660.6557377 & 611.47540984 & 259.01639344\\\\\n",
       "\\end{bmatrix}$$"
      ],
      "text/plain": [
       "<IPython.core.display.Math object>"
      ]
     },
     "metadata": {},
     "output_type": "display_data"
    }
   ],
   "source": [
    "y = np.array([100, 70, 80])\n",
    "end_output = np.linalg.inv(np.eye(n) - A) @ y\n",
    "display(bmatrix(end_output))"
   ]
  }
 ],
 "metadata": {
  "kernelspec": {
   "display_name": "Python 3",
   "language": "python",
   "name": "python3"
  },
  "language_info": {
   "codemirror_mode": {
    "name": "ipython",
    "version": 3
   },
   "file_extension": ".py",
   "mimetype": "text/x-python",
   "name": "python",
   "nbconvert_exporter": "python",
   "pygments_lexer": "ipython3",
   "version": "3.6.4"
  }
 },
 "nbformat": 4,
 "nbformat_minor": 2
}
