{
 "cells": [
  {
   "cell_type": "markdown",
   "metadata": {},
   "source": [
    "# <center>Частина І</center>"
   ]
  },
  {
   "cell_type": "markdown",
   "metadata": {},
   "source": [
    "Функція корисності: $U(x) = 3.3(x_1 - 8)^{0.48} + 5.8(x_2 - 11)^{0.14} + 15.2x_3^{0.64} + 9(x_4 - 4)^{0.43}$"
   ]
  },
  {
   "cell_type": "code",
   "execution_count": 1,
   "metadata": {},
   "outputs": [],
   "source": [
    "def U(x1, x2, x3, x4):\n",
    "    return (3.3*(x1 - 8) ** 0.48) + (5.8*(x2 - 11) ** 0.14 ) + (15.2*x3 ** 0.64) + 9*(x4 - 4) ** 0.43"
   ]
  },
  {
   "cell_type": "markdown",
   "metadata": {},
   "source": [
    "## Маршаліанська поведінка споживача"
   ]
  },
  {
   "cell_type": "markdown",
   "metadata": {},
   "source": [
    "**Ціль задачі:** максимізація корисності при заданих доходах, **Обмеження:** витрати не перевищують дохід "
   ]
  },
  {
   "cell_type": "code",
   "execution_count": 4,
   "metadata": {},
   "outputs": [],
   "source": [
    "# prices\n",
    "p = [20, 25, 10, 15]\n",
    " \n",
    "I = 1000\n",
    "\n",
    "def objective_marshall(x):\n",
    "    return -U(x[0], x[1], x[2], x[3])\n",
    "\n",
    "def constraint_marshall(x):\n",
    "    return I - x[0] * p[0] - x[1] * p[1] - x[2] * p[2] - x[3] * p[3]"
   ]
  },
  {
   "cell_type": "markdown",
   "metadata": {},
   "source": [
    "Максимізуємо корисність при заданих доходах та певних обмеженнях"
   ]
  },
  {
   "cell_type": "code",
   "execution_count": 6,
   "metadata": {
    "scrolled": true
   },
   "outputs": [
    {
     "name": "stdout",
     "output_type": "stream",
     "text": [
      "Максимальна корисність: 196.706302156\n",
      "Розв'язок\n"
     ]
    },
    {
     "data": {
      "text/plain": [
       "array([  8.11798357,  11.09737005,  48.32798163,   5.1284174 ])"
      ]
     },
     "execution_count": 6,
     "metadata": {},
     "output_type": "execute_result"
    }
   ],
   "source": [
    "import numpy as np\n",
    "from scipy.optimize import minimize \n",
    "\n",
    "x0 = [15, 15, 15, 15]\n",
    " \n",
    "bounds = (\n",
    "    (8, np.inf),\n",
    "    (11, np.inf),\n",
    "    (0, np.inf),\n",
    "    (4, np.inf)\n",
    ")\n",
    "\n",
    "solution = minimize(objective_marshall, x0, method='SLSQP', bounds=bounds, constraints=[{'type': 'ineq', 'fun': constraint_marshall}])\n",
    " \n",
    "x = solution.x\n",
    " \n",
    "print('Максимальна корисність: ' + str(-objective_marshall(x)))\n",
    " \n",
    "print('Розв\\'язок')\n",
    "x"
   ]
  },
  {
   "cell_type": "markdown",
   "metadata": {},
   "source": [
    "Знаходимо множники Лагранжа як відношення часткової похідної до ціни:"
   ]
  },
  {
   "cell_type": "code",
   "execution_count": 4,
   "metadata": {},
   "outputs": [
    {
     "name": "stdout",
     "output_type": "stream",
     "text": [
      "Множники Лагранжа\n",
      "L1 = 0.24064562893499897\n",
      "L2 = 0.24075214639651676\n",
      "L3 = 0.24083080774062182\n",
      "L4 = 0.24083074852872718\n"
     ]
    }
   ],
   "source": [
    "from scipy.misc import derivative\n",
    " \n",
    "def partial_derivative(func, var=0, point=[]):\n",
    "    args = point[:]\n",
    " \n",
    "    def wraps(x):\n",
    "        args[var] = x\n",
    "        return func(*args)\n",
    " \n",
    "    return derivative(wraps, point[var], dx = 1e-6)\n",
    "\n",
    "print(\"Множники Лагранжа\")\n",
    "L = [partial_derivative(U, i, x) / p[i] for i in range(4)]\n",
    "for i in range(4):\n",
    "    print('L{} = {}'.format(i + 1, L[i]))"
   ]
  },
  {
   "cell_type": "markdown",
   "metadata": {},
   "source": [
    "Отже, значенням маргінальної корисності доходу споживача є 0.24"
   ]
  },
  {
   "cell_type": "markdown",
   "metadata": {},
   "source": [
    "## Хіксіанівська поведінка споживача"
   ]
  },
  {
   "cell_type": "markdown",
   "metadata": {},
   "source": [
    "**Ціль задачі:** а мінімальну ціну знайти корисність не менше заданої, **Обмеження на функцію:** функція має бути більша ніж добробут(заданий) "
   ]
  },
  {
   "cell_type": "code",
   "execution_count": 5,
   "metadata": {},
   "outputs": [],
   "source": [
    "def objective_hicks(h):\n",
    "    return p[0] * h[0] + p[1] * h[1] + p[2] * h[2] + p[3] * h[3]\n",
    "\n",
    "def constraint_hicks(h):\n",
    "    return U(h[0], h[1], h[2], h[3]) - U(9, 12, 0, 4)"
   ]
  },
  {
   "cell_type": "markdown",
   "metadata": {},
   "source": [
    "Мінімізуємо функцію з обмеженнями:"
   ]
  },
  {
   "cell_type": "code",
   "execution_count": 6,
   "metadata": {
    "scrolled": true
   },
   "outputs": [
    {
     "name": "stdout",
     "output_type": "stream",
     "text": [
      "Мінімальні витрати: 496.9250711570113\n",
      "Розв'язок\n",
      "h1 = 8.00194029443267\n",
      "h2 = 11.008128334536874\n",
      "h3 = 0.128339864465244\n",
      "h4 = 4.026643884018906\n",
      "U(h) = 9.09999990197845\n"
     ]
    }
   ],
   "source": [
    "h0 = [20, 20, 20, 20]\n",
    "\n",
    "solution = minimize(objective_hicks, h0, method='SLSQP', bounds=bounds, constraints=[{'type': 'ineq', 'fun': constraint_hicks}])\n",
    " \n",
    "h = solution.x\n",
    " \n",
    "print('Мінімальні витрати: ' + str(objective_hicks(h)))\n",
    " \n",
    "print('Розв\\'язок')\n",
    "for i in range(4):\n",
    "    print('h{} = {}'.format(i + 1, h[i]))\n",
    "print('U(h) = {}'.format(U(h[0], h[1], h[2], h[3])))\n",
    " \n"
   ]
  },
  {
   "cell_type": "markdown",
   "metadata": {},
   "source": [
    "Знаходимо множники Лагранжа як відношення ціни до часткової похідної:"
   ]
  },
  {
   "cell_type": "code",
   "execution_count": 7,
   "metadata": {
    "scrolled": true
   },
   "outputs": [
    {
     "name": "stdout",
     "output_type": "stream",
     "text": [
      "Множники Лагранжа\n",
      "L1 = 0.4908694173209781\n",
      "L2 = 0.4908912915885567\n",
      "L3 = 0.49089273582899473\n",
      "L4 = 0.4908749709190122\n"
     ]
    }
   ],
   "source": [
    "print(\"Множники Лагранжа\")\n",
    "L = [p[i] / partial_derivative(U, i, h) for i in range(4)]\n",
    "for i in range(4):\n",
    "    print('L{} = {}'.format(i + 1, L[i]))"
   ]
  },
  {
   "cell_type": "markdown",
   "metadata": {},
   "source": [
    "Отже, значенням додаткових витрат при зміні вартості є 0.49"
   ]
  },
  {
   "cell_type": "markdown",
   "metadata": {},
   "source": [
    "# <center>Частина ІI</center>"
   ]
  },
  {
   "cell_type": "markdown",
   "metadata": {},
   "source": [
    "Будуємо мультиплікативну функцію: $$ F(K,L) = a * K^b * L^c $$ на даних:"
   ]
  },
  {
   "cell_type": "code",
   "execution_count": 10,
   "metadata": {},
   "outputs": [],
   "source": [
    "# Kапітал\n",
    "K = [10600, 10550, 10630, 10790, 10860, 10380, 10630, 10600, 10800, 10740]"
   ]
  },
  {
   "cell_type": "code",
   "execution_count": 11,
   "metadata": {},
   "outputs": [],
   "source": [
    "# Кількість продукту / обсяг виробництва\n",
    "F = [25071, 25064, 25226, 25461, 25935, 24700, 25015, 25018, 25626, 25580]"
   ]
  },
  {
   "cell_type": "code",
   "execution_count": 12,
   "metadata": {},
   "outputs": [],
   "source": [
    "# Праця\n",
    "L = [5070, 5000, 5000, 5150, 5260, 4950, 5015, 5020, 5170, 5195]"
   ]
  },
  {
   "cell_type": "code",
   "execution_count": 17,
   "metadata": {},
   "outputs": [],
   "source": [
    "def mult_func(x, a, b, c):\n",
    "    return a * (x[0] ** b) * (x[1] ** c) "
   ]
  },
  {
   "cell_type": "markdown",
   "metadata": {},
   "source": [
    "Знаходимо коефіцієнти:"
   ]
  },
  {
   "cell_type": "code",
   "execution_count": 18,
   "metadata": {},
   "outputs": [
    {
     "name": "stdout",
     "output_type": "stream",
     "text": [
      "Виробнича функція\n",
      " F = 7.9995573693940925 * K ^ 0.525421003214771 * L ^ 0.3732516730550991 \n",
      "\n"
     ]
    }
   ],
   "source": [
    "from scipy.optimize import curve_fit\n",
    "\n",
    "p0 = [6.7670, 0.3580, 0.3629]\n",
    "coeffs, _ = curve_fit(mult_func, (K, L) , F, p0)\n",
    "print(\"Виробнича функція\\n F = {} * K ^ {} * L ^ {}\".format(coeffs[0], coeffs[1], coeffs[2]), \"\\n\")"
   ]
  },
  {
   "cell_type": "markdown",
   "metadata": {},
   "source": [
    "Знаходимо ефект маштабу порівнюючи суму знайдених коефіцієнтів:\n"
   ]
  },
  {
   "cell_type": "code",
   "execution_count": 31,
   "metadata": {},
   "outputs": [
    {
     "name": "stdout",
     "output_type": "stream",
     "text": [
      "Стабільна: False\n",
      "Спадаюча: True\n",
      "Зростаюча: False\n"
     ]
    }
   ],
   "source": [
    "k = 2\n",
    "arg_inc = mult_func(k * (K, L), *coeffs)\n",
    "func_inc = k* mult_func((K, L), *coeffs)\n",
    "stable = incr = dect = False\n",
    "for i in range(len(K)):\n",
    "    if  arg_inc[i] == func_inc[i]:\n",
    "        stable = True\n",
    "    elif arg_inc[i] > func_inc[i]:\n",
    "        incr = True\n",
    "    elif arg_inc[i] < func_inc[i]:\n",
    "        decr = True\n",
    "print (\"Стабільна: \" + str(stable))\n",
    "print (\"Спадаюча: \" + str(decr))\n",
    "print (\"Зростаюча: \" + str(incr))"
   ]
  },
  {
   "cell_type": "markdown",
   "metadata": {},
   "source": [
    "Можна довести, що еластичність заміщення для мультиплікативної ф-ції завжди рівна 1"
   ]
  },
  {
   "cell_type": "markdown",
   "metadata": {},
   "source": [
    "## Повна конкуренція"
   ]
  },
  {
   "cell_type": "markdown",
   "metadata": {},
   "source": [
    "Не можемо впливати на ціну, бо її диктує ринок.    "
   ]
  },
  {
   "cell_type": "code",
   "execution_count": 14,
   "metadata": {},
   "outputs": [],
   "source": [
    "# ціна товара\n",
    "price = 7\n",
    "# ціна на капітал, працю\n",
    "w = [10, 20]"
   ]
  },
  {
   "cell_type": "markdown",
   "metadata": {},
   "source": [
    "Існує два періода:\n",
    "* короктостроковий - присутні обмеження на ресурси\n",
    "* довгостроковий - немає обмежень на ресурси"
   ]
  },
  {
   "cell_type": "markdown",
   "metadata": {},
   "source": [
    "### Довгостроковий період"
   ]
  },
  {
   "cell_type": "code",
   "execution_count": 15,
   "metadata": {},
   "outputs": [],
   "source": [
    "#Формула \n",
    "def pi(x):\n",
    "    return w[0] * x[0] + w[1] * x[1] - price * mult_func(x, *coeffs)"
   ]
  },
  {
   "cell_type": "markdown",
   "metadata": {},
   "source": [
    "Обмеження на ресурси відсутні"
   ]
  },
  {
   "cell_type": "code",
   "execution_count": 16,
   "metadata": {},
   "outputs": [],
   "source": [
    "bounds = (\n",
    "    (0, np.inf),\n",
    "    (0, np.inf)\n",
    ")"
   ]
  },
  {
   "cell_type": "markdown",
   "metadata": {},
   "source": [
    "Максимізуємо функцію прибутку/ прибуток:"
   ]
  },
  {
   "cell_type": "code",
   "execution_count": 17,
   "metadata": {},
   "outputs": [
    {
     "name": "stdout",
     "output_type": "stream",
     "text": [
      "[931.98617312 331.02647392]\n",
      "Довгостроковий прибуток: 1797.2995338043202 \n",
      "\n"
     ]
    }
   ],
   "source": [
    "long_solution = minimize(pi, [1, 1], method='SLSQP', bounds=bounds, constraints=[])\n",
    "print(long_solution.x)\n",
    "print(\"Довгостроковий прибуток:\", -pi(long_solution.x), \"\\n\")"
   ]
  },
  {
   "cell_type": "markdown",
   "metadata": {},
   "source": [
    "### Короткостроковий період"
   ]
  },
  {
   "cell_type": "markdown",
   "metadata": {},
   "source": [
    "Обмеження:"
   ]
  },
  {
   "cell_type": "code",
   "execution_count": 18,
   "metadata": {},
   "outputs": [],
   "source": [
    "def constraint(x):  # sqrt(x[0] * x[0] + x[1] * x[1]) <= 5000\n",
    "    return 5 - (x[0] * x[0] + x[1] * x[1]) ** 0.5"
   ]
  },
  {
   "cell_type": "markdown",
   "metadata": {},
   "source": [
    "Максимізуємо функцію прибутку тепер вже з обмеженнями:"
   ]
  },
  {
   "cell_type": "code",
   "execution_count": 19,
   "metadata": {},
   "outputs": [
    {
     "name": "stdout",
     "output_type": "stream",
     "text": [
      "[4.36004218 2.44745424]\n",
      "Короткостроковий прибуток: 76.9834769149318\n"
     ]
    }
   ],
   "source": [
    "short_solution = minimize(pi, [1, 1], method='SLSQP', bounds=bounds, constraints=[{'type': 'ineq', 'fun': constraint}])\n",
    "print(short_solution.x)\n",
    "print(\"Короткостроковий прибуток:\", -pi(short_solution.x))"
   ]
  },
  {
   "cell_type": "markdown",
   "metadata": {},
   "source": [
    "## Монополія. Монопсонія"
   ]
  },
  {
   "cell_type": "markdown",
   "metadata": {},
   "source": [
    "* **Монополія** - єдиний продавець \n",
    "* **Монопсонія** - єдиний покупець\n",
    "\n",
    "Ціни - це функції.\n",
    "Максимізуємо чистий прибуток з урахуванням функції цін."
   ]
  },
  {
   "cell_type": "markdown",
   "metadata": {},
   "source": [
    "Функція попиту:"
   ]
  },
  {
   "cell_type": "code",
   "execution_count": 20,
   "metadata": {},
   "outputs": [],
   "source": [
    "def price_func(x): \n",
    "    return -x / 10 + 1000"
   ]
  },
  {
   "cell_type": "markdown",
   "metadata": {},
   "source": [
    "Функція пропозиції:"
   ]
  },
  {
   "cell_type": "code",
   "execution_count": 21,
   "metadata": {},
   "outputs": [],
   "source": [
    "def wL(x):\n",
    "    return 0.2 * x[1] - 10"
   ]
  },
  {
   "cell_type": "markdown",
   "metadata": {},
   "source": [
    "Капітал:"
   ]
  },
  {
   "cell_type": "code",
   "execution_count": 22,
   "metadata": {},
   "outputs": [],
   "source": [
    "def wK(x):\n",
    "    return 0.1 * x[0] - 20"
   ]
  },
  {
   "cell_type": "markdown",
   "metadata": {},
   "source": [
    "Фінальні розв'язки:"
   ]
  },
  {
   "cell_type": "code",
   "execution_count": 1,
   "metadata": {},
   "outputs": [
    {
     "ename": "NameError",
     "evalue": "name 'minimize' is not defined",
     "output_type": "error",
     "traceback": [
      "\u001b[0;31m---------------------------------------------------------------------------\u001b[0m",
      "\u001b[0;31mNameError\u001b[0m                                 Traceback (most recent call last)",
      "\u001b[0;32m<ipython-input-1-5b4b1a8fdc28>\u001b[0m in \u001b[0;36m<module>\u001b[0;34m()\u001b[0m\n\u001b[1;32m      4\u001b[0m \u001b[0;34m\u001b[0m\u001b[0m\n\u001b[1;32m      5\u001b[0m \u001b[0;34m\u001b[0m\u001b[0m\n\u001b[0;32m----> 6\u001b[0;31m \u001b[0mmonopoly_solution\u001b[0m \u001b[0;34m=\u001b[0m \u001b[0mminimize\u001b[0m\u001b[0;34m(\u001b[0m\u001b[0mmonopoly_pi\u001b[0m\u001b[0;34m,\u001b[0m \u001b[0;34m[\u001b[0m\u001b[0;36m1\u001b[0m\u001b[0;34m,\u001b[0m \u001b[0;36m1\u001b[0m\u001b[0;34m]\u001b[0m\u001b[0;34m,\u001b[0m \u001b[0mmethod\u001b[0m\u001b[0;34m=\u001b[0m\u001b[0;34m'SLSQP'\u001b[0m\u001b[0;34m,\u001b[0m \u001b[0mbounds\u001b[0m\u001b[0;34m=\u001b[0m\u001b[0mbounds\u001b[0m\u001b[0;34m,\u001b[0m \u001b[0mconstraints\u001b[0m\u001b[0;34m=\u001b[0m\u001b[0;34m[\u001b[0m\u001b[0;34m]\u001b[0m\u001b[0;34m)\u001b[0m\u001b[0;34m\u001b[0m\u001b[0m\n\u001b[0m\u001b[1;32m      7\u001b[0m \u001b[0mprint\u001b[0m\u001b[0;34m(\u001b[0m\u001b[0mmonopoly_solution\u001b[0m\u001b[0;34m.\u001b[0m\u001b[0mx\u001b[0m\u001b[0;34m)\u001b[0m\u001b[0;34m\u001b[0m\u001b[0m\n\u001b[1;32m      8\u001b[0m \u001b[0mprint\u001b[0m\u001b[0;34m(\u001b[0m\u001b[0;34m\"Прибуток монополії:\"\u001b[0m\u001b[0;34m,\u001b[0m \u001b[0;34m-\u001b[0m\u001b[0mmonopoly_pi\u001b[0m\u001b[0;34m(\u001b[0m\u001b[0mmonopoly_solution\u001b[0m\u001b[0;34m.\u001b[0m\u001b[0mx\u001b[0m\u001b[0;34m)\u001b[0m\u001b[0;34m)\u001b[0m\u001b[0;34m\u001b[0m\u001b[0m\n",
      "\u001b[0;31mNameError\u001b[0m: name 'minimize' is not defined"
     ]
    }
   ],
   "source": [
    "def monopoly_pi(x):\n",
    "    Q = mult_func(x, *coeffs)\n",
    "    return wK(x) * x[0] + wL(x) * x[1] - Q * price_func(Q)\n",
    " \n",
    " \n",
    "monopoly_solution = minimize(monopoly_pi, [1, 1], method='SLSQP', bounds=bounds, constraints=[])\n",
    "print(monopoly_solution.x)\n",
    "print(\"Прибуток монополії:\", -monopoly_pi(monopoly_solution.x))\n",
    "print(\"Ціна на товар:\", price_func(mult_func(monopoly_solution.x, *coeffs)))\n",
    "print(\"Ціна ресурсів: K = {}, L = {}\".format(wK(monopoly_solution.x), wL(monopoly_solution.x)))\n",
    "print(\"Обсяг виробництва:\", mult_func(monopoly_solution.x, *coeffs))"
   ]
  }
 ],
 "metadata": {
  "kernelspec": {
   "display_name": "Python 3",
   "language": "python",
   "name": "python3"
  },
  "language_info": {
   "codemirror_mode": {
    "name": "ipython",
    "version": 3
   },
   "file_extension": ".py",
   "mimetype": "text/x-python",
   "name": "python",
   "nbconvert_exporter": "python",
   "pygments_lexer": "ipython3",
   "version": "3.6.4"
  }
 },
 "nbformat": 4,
 "nbformat_minor": 2
}
