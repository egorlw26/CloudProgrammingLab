{
 "cells": [
  {
   "cell_type": "code",
   "execution_count": 1,
   "metadata": {
    "collapsed": true
   },
   "outputs": [],
   "source": [
    "import sympy as sp\n",
    "from sympy.plotting import plot\n",
    "%matplotlib inline \n",
    "\n",
    "sp.init_printing()"
   ]
  },
  {
   "cell_type": "markdown",
   "metadata": {},
   "source": [
    "# Лабораторна робота №1\n",
    "\n",
    "<img src=\"http://civil.engr.siu.edu/cheval/engr351/Images/ENGR351.jpg\" width=\"500px\" height=\"300px\" \\>\n",
    "\n",
    "\n",
    "### Умова задачі\n",
    "\n",
    "Задано функцію $f(x)$, потрібно знайти корінь цієї функції, тобто хоча б одне значення параметру $x=x_0$, при якому $f(x_0)=0$. Якщо такого значення не існує повернути $null$.\n",
    "\n",
    "Розглянемо три різні методи розвязку даної задачі:\n",
    "\n",
    " 1. Метод дихотомії\n",
    " 2. Метод Нютона\n",
    " 3. Метод простої ітерації\n",
    " \n",
    "Кожен з цих методів має свої недоліки і переваги, тому немає однозначно найкращого методу для розвязання цїєї задачі.\n",
    "\n",
    "Для початку введемо декілька загальнопринятих позначень: $\\epsilon$ та $x$ як символи бібліотеки SymPy"
   ]
  },
  {
   "cell_type": "code",
   "execution_count": 54,
   "metadata": {
    "collapsed": false
   },
   "outputs": [],
   "source": [
    "EPS = sp.Rational(\"1e-3\")\n",
    "x = sp.Symbol(\"x\")"
   ]
  },
  {
   "cell_type": "markdown",
   "metadata": {},
   "source": [
    "Визначимо функцію $fun$, для якої ми збираємося шукати корінь"
   ]
  },
  {
   "cell_type": "code",
   "execution_count": 53,
   "metadata": {
    "collapsed": false
   },
   "outputs": [
    {
     "data": {
      "image/png": "[encoded data removed]",
      "text/plain": [
       "<matplotlib.figure.Figure at 0x7fcbb94dc6d8>"
      ]
     },
     "metadata": {},
     "output_type": "display_data"
    },
    {
     "data": {
      "text/plain": [
       "<sympy.plotting.plot.Plot at 0x7fcbb95907f0>"
      ]
     },
     "execution_count": 53,
     "metadata": {},
     "output_type": "execute_result"
    }
   ],
   "source": [
    "fun = x * x * x - 2 * x\n",
    "plot(fun, (x, -2, 2))"
   ]
  },
  {
   "cell_type": "markdown",
   "metadata": {},
   "source": [
    "Та її похідну $der$, що необхідна для коректної роботи деяких методів"
   ]
  },
  {
   "cell_type": "code",
   "execution_count": 55,
   "metadata": {
    "collapsed": false
   },
   "outputs": [
    {
     "data": {
      "image/png": "[encoded data removed]",
      "text/plain": [
       "<matplotlib.figure.Figure at 0x7fcbb93596d8>"
      ]
     },
     "metadata": {},
     "output_type": "display_data"
    },
    {
     "data": {
      "text/plain": [
       "<sympy.plotting.plot.Plot at 0x7fcbb92ef2b0>"
      ]
     },
     "execution_count": 55,
     "metadata": {},
     "output_type": "execute_result"
    }
   ],
   "source": [
    "der = sp.diff(fun, x)\n",
    "plot(der, (x, -2, 2))"
   ]
  },
  {
   "cell_type": "markdown",
   "metadata": {},
   "source": [
    "### Метод дихотомії\n",
    "\n",
    "Метод полягає у зменшені відрузку що розглядається вдвічі на кожній ітерації. **Необхідна умова** для застосування цього метода $f(a) \\cdot f(b) <= 0$\n",
    "\n",
    "#### Алгоритм\n",
    "\n",
    "Покладемо $l = a, r = b$, тоді виконується інваріант $f(l) \\cdot f(r) <=0$. Покажемо що він зберігається на кожній ітерації.\n",
    "\n",
    "На кожній ітерації циклу вибирається точка $m = \\large\\frac{l + r}{2}$, і перевіряється умова $f(a) \\cdot f(m) <= 0$.\n",
    "Якщо вона виконується, тоді корінь знаходиться на проміжку $[a; m]$, інакше корінь треба шукати на проміжку $[m; b]$.\n",
    "\n",
    "Рекурсивно виконуємо функцію пошуку для одного з вище вказаних проміжків."
   ]
  },
  {
   "cell_type": "code",
   "execution_count": 51,
   "metadata": {
    "collapsed": false
   },
   "outputs": [],
   "source": [
    "def dih(a, b, f=fun, eps=EPS):\n",
    "    print(\"[{}; {}]\".format(a, b))\n",
    "    \n",
    "    if f.subs(x, a) * f.subs(x, b) > 0:\n",
    "        return None\n",
    "    \n",
    "    if a > b:\n",
    "        a, b = b, a\n",
    "    \n",
    "    if (b - a).evalf() <= EPS / sp.Integer(2):\n",
    "        return a\n",
    "    \n",
    "    m = a + (b - a) / sp.Integer(2)\n",
    "    if f.subs(x, a) * f.subs(x, m) <= 0:\n",
    "        return dih(a, m, f, eps)\n",
    "    else:\n",
    "        return dih(m, b, f, eps)"
   ]
  },
  {
   "cell_type": "code",
   "execution_count": 52,
   "metadata": {
    "collapsed": false,
    "scrolled": false
   },
   "outputs": [
    {
     "name": "stdout",
     "output_type": "stream",
     "text": [
      "[-5; -1/10]\n",
      "[-51/20; -1/10]\n",
      "[-51/20; -53/40]\n",
      "[-31/16; -53/40]\n",
      "[-261/160; -53/40]\n",
      "[-473/320; -53/40]\n",
      "[-473/320; -897/640]\n",
      "[-1843/1280; -897/640]\n",
      "[-3637/2560; -897/640]\n",
      "[-3637/2560; -1445/1024]\n",
      "[-14499/10240; -1445/1024]\n"
     ]
    },
    {
     "data": {
      "text/plain": [
       "'Result -1.41591796875000'"
      ]
     },
     "execution_count": 52,
     "metadata": {},
     "output_type": "execute_result"
    }
   ],
   "source": [
    "res = dih(a=-5, b=sp.Rational('-0.1'))\n",
    "\"Result {}\".format(sp.N(res))"
   ]
  },
  {
   "cell_type": "markdown",
   "metadata": {},
   "source": [
    "### Метод Нютона\n",
    "\n",
    "Метод полягає в "
   ]
  },
  {
   "cell_type": "code",
   "execution_count": 61,
   "metadata": {
    "collapsed": true
   },
   "outputs": [],
   "source": [
    "def newton(x0, f=fun, d=der, eps=EPS):\n",
    "    x1 = x0 - f.subs(x, x0) / d.subs(x, x0)\n",
    "    print(x1)\n",
    "    while sp.Abs(x1 - x0).evalf() > EPS / sp.Integer(2):\n",
    "        x0, x1 = x1, x1 - f.subs(x, x1) / d.subs(x, x1)\n",
    "        print(x1)\n",
    "    return x1"
   ]
  },
  {
   "cell_type": "code",
   "execution_count": 62,
   "metadata": {
    "collapsed": false,
    "scrolled": false
   },
   "outputs": [
    {
     "name": "stdout",
     "output_type": "stream",
     "text": [
      "-343/265\n",
      "-80707214/56311705\n",
      "-525698898908274241116344/371627603054690733305645\n",
      "-145281796700165482406124064134715758902336796547627308146353756741635584/102729732996097458209802593678671686897169995870305234692755699698238955\n"
     ]
    },
    {
     "data": {
      "text/plain": [
       "'Result -1.414213709'"
      ]
     },
     "execution_count": 62,
     "metadata": {},
     "output_type": "execute_result"
    }
   ],
   "source": [
    "res = newton(x0=sp.Rational(\"0.7\"))\n",
    "\"Result {}\".format(sp.N(res, 10))"
   ]
  },
  {
   "cell_type": "markdown",
   "metadata": {},
   "source": [
    "### Метод простої ітерації"
   ]
  },
  {
   "cell_type": "code",
   "execution_count": 63,
   "metadata": {
    "collapsed": false,
    "scrolled": true
   },
   "outputs": [
    {
     "data": {
      "image/png": "[encoded data removed]",
      "text/latex": [
       "$$- \\alpha \\left(x^{3} - 2 x\\right) + x$$"
      ],
      "text/plain": [
       "    ⎛ 3      ⎞    \n",
       "- α⋅⎝x  - 2⋅x⎠ + x"
      ]
     },
     "execution_count": 63,
     "metadata": {},
     "output_type": "execute_result"
    }
   ],
   "source": [
    "alpha = sp.Symbol(\"alpha\")\n",
    "h = x - fun * alpha\n",
    "h"
   ]
  },
  {
   "cell_type": "code",
   "execution_count": 69,
   "metadata": {
    "collapsed": true
   },
   "outputs": [],
   "source": [
    "def simple(x0, alpha, f=fun, eps=EPS):\n",
    "    h = x - alpha * f\n",
    "    x1 = h.subs(x, x0)\n",
    "    print(\"[{}; {}]\".format(x0, x1))\n",
    "    while abs(x1 - x0) > EPS / sp.Integer(2):\n",
    "        x0, x1 = x1, h.subs(x, x1)\n",
    "        print(\"[{}; {}]\".format(x0, x1))\n",
    "    return x1"
   ]
  },
  {
   "cell_type": "code",
   "execution_count": 72,
   "metadata": {
    "collapsed": false
   },
   "outputs": [
    {
     "name": "stdout",
     "output_type": "stream",
     "text": [
      "[-3; -0.899999999999999]\n",
      "[-0.899999999999999; -1.00710000000000]\n",
      "[-1.00710000000000; -1.10637484120890]\n",
      "[-1.10637484120890; -1.19222230544724]\n",
      "[-1.19222230544724; -1.26120500032101]\n",
      "[-1.26120500032101; -1.31283393379161]\n",
      "[-1.31283393379161; -1.34912946788598]\n",
      "[-1.34912946788598; -1.37339351804289]\n",
      "[-1.37339351804289; -1.38902139647760]\n",
      "[-1.38902139647760; -1.39883060448028]\n",
      "[-1.39883060448028; -1.40488375575778]\n",
      "[-1.40488375575778; -1.40857882942595]\n",
      "[-1.40857882942595; -1.41081927001965]\n",
      "[-1.41081927001965; -1.41217210283174]\n",
      "[-1.41217210283174; -1.41298691935436]\n",
      "[-1.41298691935436; -1.41347693837618]\n"
     ]
    },
    {
     "data": {
      "text/plain": [
       "'Result -1.413476938'"
      ]
     },
     "execution_count": 72,
     "metadata": {},
     "output_type": "execute_result"
    }
   ],
   "source": [
    "res = simple(x0=-3, alpha=1/10)\n",
    "\"Result {}\".format(sp.N(res, 10))"
   ]
  }
 ],
 "metadata": {
  "anaconda-cloud": {
   "attach-environment": true,
   "environment": "Root",
   "summary": "Lab 1 | Numerical methods",
   "url": "https://anaconda.org/lionell/lab1"
  },
  "kernelspec": {
   "display_name": "Python [Root]",
   "language": "python",
   "name": "Python [Root]"
  },
  "language_info": {
   "codemirror_mode": {
    "name": "ipython",
    "version": 3
   },
   "file_extension": ".py",
   "mimetype": "text/x-python",
   "name": "python",
   "nbconvert_exporter": "python",
   "pygments_lexer": "ipython3",
   "version": "3.5.2"
  }
 },
 "nbformat": 4,
 "nbformat_minor": 0
}
