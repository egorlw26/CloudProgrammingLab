{
 "cells": [
  {
   "cell_type": "code",
   "execution_count": 1,
   "metadata": {},
   "outputs": [],
   "source": [
    "import numpy as np\n",
    "from matplotlib import pyplot as plt\n",
    "from scipy.optimize import minimize, curve_fit\n",
    "from scipy.misc import derivative"
   ]
  },
  {
   "cell_type": "markdown",
   "metadata": {},
   "source": [
    "<img src='http://veedif.com/files/thumbs/monopoly-3d.jpg' width='800px' />"
   ]
  },
  {
   "cell_type": "code",
   "execution_count": 2,
   "metadata": {},
   "outputs": [],
   "source": [
    "def U(x): return np.log(x[0] - 3) + 3.4*np.log(x[1]) + 8.2*np.log(x[2] - 11) + 6.7*np.log(x[3] - 4)\n",
    "\n",
    "p = np.array([1, 2, 3, 4])\n",
    "I = 1000\n",
    "bounds = [\n",
    "    (4,  np.inf),\n",
    "    (1,  np.inf),\n",
    "    (12, np.inf),\n",
    "    (5,  np.inf),\n",
    "]"
   ]
  },
  {
   "cell_type": "code",
   "execution_count": 3,
   "metadata": {},
   "outputs": [],
   "source": [
    "def partial_derivative(f, i, p):\n",
    "    def wrapper(x):\n",
    "        a = p\n",
    "        a[i] = x\n",
    "        return f(a)\n",
    " \n",
    "    return derivative(wrapper, p[i], dx = 1e-6)"
   ]
  },
  {
   "cell_type": "markdown",
   "metadata": {},
   "source": [
    "## Marshall approach\n",
    "\n",
    "$$ U(x) \\to max, $$\n",
    "$$ px \\leq I $$"
   ]
  },
  {
   "cell_type": "code",
   "execution_count": 4,
   "metadata": {},
   "outputs": [
    {
     "name": "stdout",
     "output_type": "stream",
     "text": [
      "Solution: [  52.15025268   83.48315766  145.25903298   86.27658577]\n",
      "Objective: 88.66\n",
      "Lagrange multipliers: [0.020345780171737715, 0.02036338742072985, 0.020358652837633901, 0.020358161378908335]\n"
     ]
    }
   ],
   "source": [
    "x0 = [15, 15, 15, 15]\n",
    "\n",
    "x = minimize(lambda x: -U(x), x0, bounds=bounds, constraints=[{'type': 'ineq', 'fun': lambda x: I - x @ p}]).x\n",
    "Ls = [partial_derivative(U, i, x) / p[i] for i in range(len(p))]\n",
    "print('Solution: {}'.format(x))\n",
    "print('Objective: {:.2f}'.format(U(x)))\n",
    "print('Lagrange multipliers: {}'.format(Ls))"
   ]
  },
  {
   "cell_type": "markdown",
   "metadata": {},
   "source": [
    "## Higs approach\n",
    "\n",
    "$$ px \\to min, $$\n",
    "$$ U(x) \\geq Q $$"
   ]
  },
  {
   "cell_type": "code",
   "execution_count": 5,
   "metadata": {},
   "outputs": [
    {
     "name": "stdout",
     "output_type": "stream",
     "text": [
      "Solution: [  5.34364123   3.98424524  17.40581003   7.92557422]\n",
      "Objective: 97.23\n",
      "Lagrange multipliers: [2.3436402309049384, 2.3436730828664629, 2.3435886635414058, 2.3436258005304635]\n"
     ]
    }
   ],
   "source": [
    "x0 = [15, 15, 15, 15]\n",
    "q = [6, 5, 15, 10]\n",
    "\n",
    "x = minimize(lambda x: p @ x, x0, bounds=bounds, constraints=[{'type': 'ineq', 'fun': lambda x: U(x) - U(q)}]).x\n",
    "Ls = [p[i] / partial_derivative(U, i, x) for i in range(len(p))]\n",
    "print('Solution: {}'.format(x))\n",
    "print('Objective: {:.2f}'.format(p @ x))\n",
    "print('Lagrange multipliers: {}'.format(Ls))"
   ]
  },
  {
   "cell_type": "markdown",
   "metadata": {},
   "source": [
    "## Part 2"
   ]
  },
  {
   "cell_type": "code",
   "execution_count": 6,
   "metadata": {},
   "outputs": [],
   "source": [
    "K = [5700, 4740, 4390, 5330, 5200, 4160, 5200, 4690, 5890, 4930]\n",
    "L = [12245, 13340, 13860, 14400,  14000, 11000, 14145, 13900, 15050,  13060]\n",
    "F = [140330, 120355, 125000, 137330, 121570, 113100, 133000, 126165, 149000, 120950]"
   ]
  },
  {
   "cell_type": "markdown",
   "metadata": {},
   "source": [
    "## Multiplicative production function\n",
    "\n",
    "$$ F = a \\cdot K^b L^c$$"
   ]
  },
  {
   "cell_type": "code",
   "execution_count": 7,
   "metadata": {},
   "outputs": [
    {
     "name": "stdout",
     "output_type": "stream",
     "text": [
      "Coeffs: [ 139.02507691    0.62259873    0.16045785]\n"
     ]
    }
   ],
   "source": [
    "def cobb_douglas(x, a, b, c):\n",
    "    return a * x[0]**b * x[1]**c\n",
    "\n",
    "coeffs, _ = curve_fit(cobb_douglas, (K, L), F)\n",
    "print('Coeffs: {}'.format(coeffs))"
   ]
  },
  {
   "cell_type": "markdown",
   "metadata": {},
   "source": [
    "## Scale effect and replacement elasticity"
   ]
  },
  {
   "cell_type": "code",
   "execution_count": 8,
   "metadata": {},
   "outputs": [
    {
     "name": "stdout",
     "output_type": "stream",
     "text": [
      "Profit is decreasing with the scale.\n",
      "Replacement elasticity for Cobb-Douglas function is equals to 1\n"
     ]
    }
   ],
   "source": [
    "if np.isclose(coeffs[1] + coeffs[2], 1): print('Profit to scale is const.')\n",
    "elif coeffs[1] + coeffs[2] > 1:          print('Profit is increasing with the scale.')\n",
    "else:                                    print('Profit is decreasing with the scale.')\n",
    "\n",
    "print('Replacement elasticity for Cobb-Douglas function is equals to 1')"
   ]
  },
  {
   "cell_type": "markdown",
   "metadata": {},
   "source": [
    "## Full competition"
   ]
  },
  {
   "cell_type": "code",
   "execution_count": 9,
   "metadata": {},
   "outputs": [],
   "source": [
    "price = 70\n",
    "w = [100, 100]\n",
    "\n",
    "def pi(x): return np.dot(w, x) - price * cobb_douglas(x, *coeffs)\n",
    "\n",
    "bounds = [\n",
    "    (0, np.inf),\n",
    "    (0, np.inf),\n",
    "]\n",
    "constraint = {\n",
    "    'type': 'ineq', \n",
    "    'fun': lambda x: 100000000 - x[0] - x[1]\n",
    "}"
   ]
  },
  {
   "cell_type": "markdown",
   "metadata": {},
   "source": [
    "## Short-term profit"
   ]
  },
  {
   "cell_type": "code",
   "execution_count": 10,
   "metadata": {},
   "outputs": [
    {
     "name": "stdout",
     "output_type": "stream",
     "text": [
      "Solution: [ 29328607.78334537  21137714.98190209]\n",
      "Profit: 1449882747.74\n"
     ]
    }
   ],
   "source": [
    "short_x = minimize(pi, [1, 1], bounds=bounds, constraints=constraint).x\n",
    "print('Solution: {}'.format(short_x))\n",
    "print('Profit: {:.2f}'.format(-pi(short_x)))"
   ]
  },
  {
   "cell_type": "markdown",
   "metadata": {},
   "source": [
    "## Long-term profit"
   ]
  },
  {
   "cell_type": "code",
   "execution_count": 11,
   "metadata": {},
   "outputs": [
    {
     "name": "stdout",
     "output_type": "stream",
     "text": [
      "Solution: [ 96659920.15248498  13702650.4375944 ]\n",
      "Profit: 1697360921.77\n"
     ]
    }
   ],
   "source": [
    "long_x = minimize(pi, [1, 1], bounds=bounds).x\n",
    "print('Solution: {}'.format(long_x))\n",
    "print('Profit: {:.2f}'.format(-pi(long_x)))"
   ]
  },
  {
   "cell_type": "markdown",
   "metadata": {},
   "source": [
    "## Monopoly"
   ]
  },
  {
   "cell_type": "code",
   "execution_count": 12,
   "metadata": {},
   "outputs": [
    {
     "name": "stdout",
     "output_type": "stream",
     "text": [
      "Resources usage: [ 196.37637898  116.51225428]\n",
      "Resources prices: [3.9094094746108627, 0.91280635702792123]\n",
      "Price: 100.17411635964717\n",
      "Production volume: 7986.070691228226\n"
     ]
    }
   ],
   "source": [
    "def price_func(x): return -x / 80 + 200\n",
    "\n",
    "def wK(x): return 0.025 * x[0] - 1\n",
    "def wL(x): return 0.025 * x[1] - 2\n",
    "\n",
    "def monopoly_pi(x):\n",
    "    q = cobb_douglas(x, *coeffs)\n",
    "    return (wK(x), wL(x)) @ x - price_func(q) * q\n",
    "\n",
    "monopoly_x = minimize(monopoly_pi, [1, 1], bounds=bounds).x\n",
    "\n",
    "print('Resources usage: {}'.format(monopoly_x))\n",
    "print('Resources prices: {}'.format([wK(monopoly_x), wL(monopoly_x)]))\n",
    "print('Price: {}'.format(price_func(cobb_douglas(monopoly_x, *coeffs))))\n",
    "print('Production volume: {}'.format(cobb_douglas(monopoly_x, *coeffs)))"
   ]
  }
 ],
 "metadata": {
  "kernelspec": {
   "display_name": "Python 3",
   "language": "python",
   "name": "python3"
  },
  "language_info": {
   "codemirror_mode": {
    "name": "ipython",
    "version": 3
   },
   "file_extension": ".py",
   "mimetype": "text/x-python",
   "name": "python",
   "nbconvert_exporter": "python",
   "pygments_lexer": "ipython3",
   "version": "3.6.4"
  }
 },
 "nbformat": 4,
 "nbformat_minor": 2
}
